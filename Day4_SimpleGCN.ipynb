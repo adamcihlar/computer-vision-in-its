{
  "nbformat": 4,
  "nbformat_minor": 0,
  "metadata": {
    "colab": {
      "provenance": []
    },
    "kernelspec": {
      "name": "python3",
      "display_name": "Python 3"
    },
    "language_info": {
      "name": "python"
    }
  },
  "cells": [
    {
      "cell_type": "code",
      "execution_count": 11,
      "metadata": {
        "colab": {
          "base_uri": "https://localhost:8080/"
        },
        "id": "plGNgAy0nDDK",
        "outputId": "442bb6de-76f7-4b73-a8af-4df73b40f51e"
      },
      "outputs": [
        {
          "output_type": "stream",
          "name": "stdout",
          "text": [
            "Epoch 1/10\n",
            "1/1 [==============================] - 1s 976ms/step - loss: 0.7349 - accuracy: 0.3000\n",
            "Epoch 2/10\n",
            "1/1 [==============================] - 0s 15ms/step - loss: 0.7192 - accuracy: 0.3000\n",
            "Epoch 3/10\n",
            "1/1 [==============================] - 0s 12ms/step - loss: 0.7048 - accuracy: 0.3000\n",
            "Epoch 4/10\n",
            "1/1 [==============================] - 0s 12ms/step - loss: 0.6915 - accuracy: 0.7000\n",
            "Epoch 5/10\n",
            "1/1 [==============================] - 0s 19ms/step - loss: 0.6793 - accuracy: 0.7000\n",
            "Epoch 6/10\n",
            "1/1 [==============================] - 0s 18ms/step - loss: 0.6682 - accuracy: 0.7000\n",
            "Epoch 7/10\n",
            "1/1 [==============================] - 0s 14ms/step - loss: 0.6581 - accuracy: 0.7000\n",
            "Epoch 8/10\n",
            "1/1 [==============================] - 0s 15ms/step - loss: 0.6492 - accuracy: 0.7000\n",
            "Epoch 9/10\n",
            "1/1 [==============================] - 0s 14ms/step - loss: 0.6413 - accuracy: 0.7000\n",
            "Epoch 10/10\n",
            "1/1 [==============================] - 0s 13ms/step - loss: 0.6345 - accuracy: 0.7000\n",
            "1/1 [==============================] - 0s 106ms/step\n",
            "[[[1.3386017e-04 9.9986625e-01]\n",
            "  [9.3609601e-04 9.9906391e-01]\n",
            "  [4.3969223e-05 9.9995595e-01]\n",
            "  [5.6118023e-04 9.9943888e-01]\n",
            "  [5.8331183e-04 9.9941671e-01]\n",
            "  [3.0272822e-03 9.9697268e-01]\n",
            "  [2.2975577e-03 9.9770236e-01]\n",
            "  [3.2950810e-04 9.9967051e-01]\n",
            "  [2.6829759e-04 9.9973172e-01]\n",
            "  [4.1924050e-05 9.9995804e-01]]]\n"
          ]
        }
      ],
      "source": [
        "import numpy as np\n",
        "import tensorflow as tf\n",
        "from tensorflow import keras\n",
        "from tensorflow.keras import layers\n",
        "\n",
        "# Define the Graph Convolutional Layer\n",
        "class GraphConvLayer(layers.Layer):\n",
        "    def __init__(self, output_dim):\n",
        "        super(GraphConvLayer, self).__init__()\n",
        "        self.output_dim = output_dim\n",
        "\n",
        "    def build(self, input_shape):\n",
        "        self.num_nodes = input_shape[1][1]\n",
        "        self.num_features = input_shape[1][2]\n",
        "        self.kernel = self.add_weight(\"kernel\", shape=(self.num_features, self.output_dim))\n",
        "\n",
        "    def call(self, inputs):\n",
        "        adjacency_matrix, node_features = inputs\n",
        "        adjacency_matrix = tf.cast(adjacency_matrix, tf.float32)\n",
        "        node_features = tf.cast(node_features, tf.float32)\n",
        "        output = tf.matmul(tf.matmul(adjacency_matrix, node_features), self.kernel)\n",
        "        return output\n",
        "\n",
        "# Create a simple graph convolutional model\n",
        "def create_gcn_model(num_nodes, num_features, num_classes):\n",
        "    adjacency_matrix = keras.Input(shape=(num_nodes, num_nodes))\n",
        "    node_features = keras.Input(shape=(num_nodes, num_features))\n",
        "\n",
        "    hidden = GraphConvLayer(64)([adjacency_matrix, node_features])\n",
        "    hidden = layers.ReLU()(hidden)\n",
        "    output = GraphConvLayer(num_classes)([adjacency_matrix, hidden])\n",
        "    output = layers.Softmax()(output)\n",
        "\n",
        "    model = keras.Model(inputs=[adjacency_matrix, node_features], outputs=output)\n",
        "    return model\n",
        "\n",
        "# Generate random graph data for demonstration\n",
        "num_nodes = 10\n",
        "num_features = 16\n",
        "num_classes = 2\n",
        "\n",
        "adjacency_matrix = np.random.rand(1, num_nodes, num_nodes)\n",
        "node_features = np.random.rand(1, num_nodes, num_features)\n",
        "\n",
        "# Normalize adjacency matrix\n",
        "adjacency_matrix = adjacency_matrix / np.sum(adjacency_matrix, axis=2, keepdims=True)\n",
        "\n",
        "# Create the GCN model\n",
        "model = create_gcn_model(num_nodes, num_features, num_classes)\n",
        "model.compile(optimizer=\"adam\", loss=\"sparse_categorical_crossentropy\", metrics=[\"accuracy\"])\n",
        "\n",
        "# Train the model on random data\n",
        "labels = np.random.randint(num_classes, size=(1, num_nodes))\n",
        "model.fit([adjacency_matrix, node_features], labels, epochs=10, batch_size=1)\n",
        "\n",
        "# Make predictions on new data\n",
        "new_adjacency_matrix = np.random.rand(1, num_nodes, num_nodes)\n",
        "new_node_features = np.random.rand(1, num_nodes, num_features)\n",
        "predictions = model.predict([new_adjacency_matrix, new_node_features])\n",
        "print(predictions)\n"
      ]
    }
  ]
}