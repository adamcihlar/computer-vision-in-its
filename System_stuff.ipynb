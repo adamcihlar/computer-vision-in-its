{
  "nbformat": 4,
  "nbformat_minor": 0,
  "metadata": {
    "accelerator": "GPU",
    "colab": {
      "provenance": []
    },
    "kernelspec": {
      "display_name": "Python 3",
      "language": "python",
      "name": "python3"
    },
    "language_info": {
      "codemirror_mode": {
        "name": "ipython",
        "version": 3
      },
      "file_extension": ".py",
      "mimetype": "text/x-python",
      "name": "python",
      "nbconvert_exporter": "python",
      "pygments_lexer": "ipython3",
      "version": "3.7.0"
    }
  },
  "cells": [
    {
      "cell_type": "markdown",
      "metadata": {
        "id": "9Bmv_XmzvjSW"
      },
      "source": [
        "# Google Drive connection"
      ]
    },
    {
      "cell_type": "code",
      "metadata": {
        "id": "7gXu0sIfvjSX",
        "colab": {
          "base_uri": "https://localhost:8080/"
        },
        "outputId": "6cc75a5b-425b-4203-8c60-dbee0f6dec26"
      },
      "source": [
        "from google.colab import drive\n",
        "drive.mount('/content/drive')"
      ],
      "execution_count": null,
      "outputs": [
        {
          "output_type": "stream",
          "name": "stdout",
          "text": [
            "Mounted at /content/drive\n"
          ]
        }
      ]
    },
    {
      "cell_type": "markdown",
      "metadata": {
        "id": "2GM1rCZrvjSa"
      },
      "source": [
        "### Complete Linux sandbox"
      ]
    },
    {
      "cell_type": "code",
      "metadata": {
        "id": "iWYfZlpYvjSa",
        "colab": {
          "base_uri": "https://localhost:8080/"
        },
        "outputId": "87025f01-ba2d-49b2-cd58-7e366f647423"
      },
      "source": [
        "# Current directory\n",
        "!pwd\n",
        "# List contents\n",
        "!ls\n",
        "# Root\n",
        "!ls /\n",
        "# Home\n",
        "!ls ~/\n",
        "# Copy: cp, make directory: mkdir, ..."
      ],
      "execution_count": null,
      "outputs": [
        {
          "output_type": "stream",
          "name": "stdout",
          "text": [
            "/content\n",
            "drive  sample_data\n",
            "bin\t datalab  home\t lib64\topt\t    root  srv\t\t     tmp    var\n",
            "boot\t dev\t  lib\t media\tproc\t    run   sys\t\t     tools\n",
            "content  etc\t  lib32  mnt\tpython-apt  sbin  tensorflow-1.15.2  usr\n"
          ]
        }
      ]
    },
    {
      "cell_type": "code",
      "metadata": {
        "id": "XjC54C4xv_yX",
        "colab": {
          "base_uri": "https://localhost:8080/"
        },
        "outputId": "8a0d703f-3767-428f-dad7-74e8101ebb63"
      },
      "source": [
        "!ls /content/"
      ],
      "execution_count": null,
      "outputs": [
        {
          "output_type": "stream",
          "name": "stdout",
          "text": [
            "drive  kaggle  sample_data\n"
          ]
        }
      ]
    },
    {
      "cell_type": "code",
      "metadata": {
        "id": "1nbTeTUSwYDE"
      },
      "source": [
        "!ls ~/"
      ],
      "execution_count": null,
      "outputs": []
    },
    {
      "cell_type": "markdown",
      "metadata": {
        "id": "oXh0VyE0vjSd"
      },
      "source": [
        "### Ready with Python, Tensorflow, Keras, ..."
      ]
    },
    {
      "cell_type": "code",
      "metadata": {
        "id": "q5Q2Bsl4vjSe",
        "colab": {
          "base_uri": "https://localhost:8080/"
        },
        "outputId": "819b33c4-9cf6-4e4e-b146-f75cfd15b0e8"
      },
      "source": [
        "!python --version\n",
        "# import <tab>"
      ],
      "execution_count": null,
      "outputs": [
        {
          "output_type": "stream",
          "name": "stdout",
          "text": [
            "Python 3.7.13\n"
          ]
        }
      ]
    },
    {
      "cell_type": "markdown",
      "metadata": {
        "id": "OGTFJpFuXijb"
      },
      "source": [
        "# Kaggle API\n",
        "### After downloading key from kaggle.com (My Account -> Create new API token) to Google Drive:\n",
        "Access Google Drive, copy kaggle.json to Colab and report progress.  \n",
        "Authentication of Google account is part of the process (once every session)."
      ]
    },
    {
      "cell_type": "code",
      "metadata": {
        "id": "hsrzPdK8lgWy",
        "colab": {
          "base_uri": "https://localhost:8080/"
        },
        "outputId": "dbed1ffe-ab45-49d6-f32e-1d857fcdd6d2"
      },
      "source": [
        "from googleapiclient.discovery import build\n",
        "import io, os\n",
        "from googleapiclient.http import MediaIoBaseDownload\n",
        "from google.colab import auth\n",
        "auth.authenticate_user()\n",
        "drive_service = build('drive', 'v3')\n",
        "results = drive_service.files().list(\n",
        "        q=\"name = 'kaggle.json'\", fields=\"files(id)\").execute()\n",
        "kaggle_api_key = results.get('files', [])\n",
        "filename = \"/.kaggle/kaggle.json\"\n",
        "os.makedirs(os.path.dirname(filename), exist_ok=True)\n",
        "request = drive_service.files().get_media(fileId=kaggle_api_key[0]['id'])\n",
        "fh = io.FileIO(filename, 'wb')\n",
        "downloader = MediaIoBaseDownload(fh, request)\n",
        "done = False\n",
        "while done is False:\n",
        "    status, done = downloader.next_chunk()\n",
        "    print(\"Download %d%%.\" % int(status.progress() * 100))\n",
        "os.chmod(filename, 600)"
      ],
      "execution_count": null,
      "outputs": [
        {
          "output_type": "stream",
          "name": "stdout",
          "text": [
            "Download 100%.\n"
          ]
        }
      ]
    },
    {
      "cell_type": "code",
      "metadata": {
        "id": "LT8DgU0URsD2",
        "colab": {
          "base_uri": "https://localhost:8080/"
        },
        "outputId": "7885314b-5261-49ab-8fd2-1dff723b9b71"
      },
      "source": [
        "# Check existence of file\n",
        "!ls /.kaggle"
      ],
      "execution_count": null,
      "outputs": [
        {
          "output_type": "stream",
          "name": "stdout",
          "text": [
            "kaggle.json\n"
          ]
        }
      ]
    },
    {
      "cell_type": "code",
      "metadata": {
        "id": "HBR8u5Bd5td0"
      },
      "source": [
        "# Notice the difference in path names with/without ~\n",
        "!mkdir -p ~/.kaggle\n",
        "!cp /.kaggle/kaggle.json ~/.kaggle/"
      ],
      "execution_count": null,
      "outputs": []
    },
    {
      "cell_type": "code",
      "metadata": {
        "id": "TUCym-uoP9tG",
        "colab": {
          "base_uri": "https://localhost:8080/"
        },
        "outputId": "4905d9e9-0a73-4d7f-c9e2-8e6e333ea755"
      },
      "source": [
        "# Install Python part of kaggle\n",
        "!pip install kaggle"
      ],
      "execution_count": null,
      "outputs": [
        {
          "output_type": "stream",
          "name": "stdout",
          "text": [
            "Looking in indexes: https://pypi.org/simple, https://us-python.pkg.dev/colab-wheels/public/simple/\n",
            "Requirement already satisfied: kaggle in /usr/local/lib/python3.7/dist-packages (1.5.12)\n",
            "Requirement already satisfied: six>=1.10 in /usr/local/lib/python3.7/dist-packages (from kaggle) (1.15.0)\n",
            "Requirement already satisfied: tqdm in /usr/local/lib/python3.7/dist-packages (from kaggle) (4.64.0)\n",
            "Requirement already satisfied: requests in /usr/local/lib/python3.7/dist-packages (from kaggle) (2.23.0)\n",
            "Requirement already satisfied: urllib3 in /usr/local/lib/python3.7/dist-packages (from kaggle) (1.24.3)\n",
            "Requirement already satisfied: python-dateutil in /usr/local/lib/python3.7/dist-packages (from kaggle) (2.8.2)\n",
            "Requirement already satisfied: python-slugify in /usr/local/lib/python3.7/dist-packages (from kaggle) (6.1.2)\n",
            "Requirement already satisfied: certifi in /usr/local/lib/python3.7/dist-packages (from kaggle) (2022.6.15)\n",
            "Requirement already satisfied: text-unidecode>=1.3 in /usr/local/lib/python3.7/dist-packages (from python-slugify->kaggle) (1.3)\n",
            "Requirement already satisfied: idna<3,>=2.5 in /usr/local/lib/python3.7/dist-packages (from requests->kaggle) (2.10)\n",
            "Requirement already satisfied: chardet<4,>=3.0.2 in /usr/local/lib/python3.7/dist-packages (from requests->kaggle) (3.0.4)\n"
          ]
        }
      ]
    },
    {
      "cell_type": "markdown",
      "metadata": {
        "id": "GRVNQlw6n3Jo"
      },
      "source": [
        "### Check if connection is succesfull"
      ]
    },
    {
      "cell_type": "code",
      "metadata": {
        "id": "GsNuGCHTn2Q3",
        "colab": {
          "base_uri": "https://localhost:8080/"
        },
        "outputId": "81dfa230-95cc-4603-de97-e8bd93c170c0"
      },
      "source": [
        "# As of Tuesday after lunch, it seems that the Kaggle API is offline. We hope it will be back soon.\n",
        "!kaggle competitions list"
      ],
      "execution_count": null,
      "outputs": [
        {
          "output_type": "stream",
          "name": "stdout",
          "text": [
            "ref                                            deadline             category            reward  teamCount  userHasEntered  \n",
            "---------------------------------------------  -------------------  ---------------  ---------  ---------  --------------  \n",
            "contradictory-my-dear-watson                   2030-07-01 23:59:00  Getting Started     Prizes         50           False  \n",
            "gan-getting-started                            2030-07-01 23:59:00  Getting Started     Prizes         77           False  \n",
            "store-sales-time-series-forecasting            2030-06-30 23:59:00  Getting Started  Knowledge        585           False  \n",
            "tpu-getting-started                            2030-06-03 23:59:00  Getting Started  Knowledge        111           False  \n",
            "digit-recognizer                               2030-01-01 00:00:00  Getting Started  Knowledge       1133            True  \n",
            "titanic                                        2030-01-01 00:00:00  Getting Started  Knowledge      13159           False  \n",
            "house-prices-advanced-regression-techniques    2030-01-01 00:00:00  Getting Started  Knowledge       3798           False  \n",
            "connectx                                       2030-01-01 00:00:00  Getting Started  Knowledge        238           False  \n",
            "nlp-getting-started                            2030-01-01 00:00:00  Getting Started  Knowledge        728           False  \n",
            "spaceship-titanic                              2030-01-01 00:00:00  Getting Started  Knowledge       2287           False  \n",
            "competitive-data-science-predict-future-sales  2022-12-31 23:59:00  Playground           Kudos      15391           False  \n",
            "feedback-prize-english-language-learning       2022-11-29 23:59:00  Featured           $55,000        400           False  \n",
            "open-problems-multimodal                       2022-11-15 23:59:00  Featured           $25,000        461           False  \n",
            "AI4Code                                        2022-11-10 23:59:00  Featured          $150,000       1049           False  \n",
            "big-data-derby-2022                            2022-11-10 23:59:00  Analytics          $50,000          0           False  \n",
            "rsna-2022-cervical-spine-fracture-detection    2022-10-27 23:59:00  Featured           $30,000        388           False  \n",
            "dfl-bundesliga-data-shootout                   2022-10-13 23:59:00  Featured           $25,000        287           False  \n",
            "google-universal-image-embedding               2022-10-10 23:59:00  Research           $50,000        812           False  \n",
            "jpx-tokyo-stock-exchange-prediction            2022-10-07 23:59:00  Featured           $63,000       2033           False  \n",
            "mayo-clinic-strip-ai                           2022-10-05 23:59:00  Research           $10,000        617           False  \n"
          ]
        }
      ]
    },
    {
      "cell_type": "markdown",
      "metadata": {
        "id": "pKDQL0qfoMrf"
      },
      "source": [
        "### Download MNIST-like fashion data from Zalando Research"
      ]
    },
    {
      "cell_type": "code",
      "metadata": {
        "id": "lkKylNIXJDYf"
      },
      "source": [
        "!mkdir /content/kaggle"
      ],
      "execution_count": null,
      "outputs": []
    },
    {
      "cell_type": "code",
      "metadata": {
        "id": "BDfYj2Cil4md",
        "colab": {
          "base_uri": "https://localhost:8080/"
        },
        "outputId": "584be674-2dcc-4c9e-a533-fe38d878fbe5"
      },
      "source": [
        "!kaggle datasets download -d zalando-research/fashionmnist -p /content/kaggle"
      ],
      "execution_count": null,
      "outputs": [
        {
          "output_type": "stream",
          "name": "stdout",
          "text": [
            "Downloading fashionmnist.zip to /content/kaggle\n",
            " 71% 49.0M/68.8M [00:01<00:00, 38.1MB/s]\n",
            "100% 68.8M/68.8M [00:01<00:00, 46.8MB/s]\n"
          ]
        }
      ]
    },
    {
      "cell_type": "markdown",
      "metadata": {
        "id": "athbk7qNoZMy"
      },
      "source": [
        "See what you got"
      ]
    },
    {
      "cell_type": "code",
      "metadata": {
        "id": "mVzI-YyPnLtK",
        "colab": {
          "base_uri": "https://localhost:8080/"
        },
        "outputId": "257b91f3-00a1-4c70-a463-66d4f332bcc9"
      },
      "source": [
        "!ls /content/kaggle"
      ],
      "execution_count": null,
      "outputs": [
        {
          "output_type": "stream",
          "name": "stdout",
          "text": [
            "fashionmnist.zip\n"
          ]
        }
      ]
    },
    {
      "cell_type": "markdown",
      "metadata": {
        "id": "86zAAjlYo1GA"
      },
      "source": [
        "Oooh. A zip file. Let's unzip it."
      ]
    },
    {
      "cell_type": "code",
      "metadata": {
        "id": "LfQnUhn9o7Ur",
        "colab": {
          "base_uri": "https://localhost:8080/"
        },
        "outputId": "c6aafff1-953b-4de9-862d-15ec00dd3483"
      },
      "source": [
        "!unzip /content/kaggle/*.zip -d /content/kaggle/\n",
        "!ls /content/kaggle/"
      ],
      "execution_count": null,
      "outputs": [
        {
          "output_type": "stream",
          "name": "stdout",
          "text": [
            "Archive:  /content/kaggle/fashionmnist.zip\n",
            "  inflating: /content/kaggle/fashion-mnist_test.csv  \n",
            "  inflating: /content/kaggle/fashion-mnist_train.csv  \n",
            "  inflating: /content/kaggle/t10k-images-idx3-ubyte  \n",
            "  inflating: /content/kaggle/t10k-labels-idx1-ubyte  \n",
            "  inflating: /content/kaggle/train-images-idx3-ubyte  \n",
            "  inflating: /content/kaggle/train-labels-idx1-ubyte  \n",
            "fashion-mnist_test.csv\t t10k-images-idx3-ubyte   train-labels-idx1-ubyte\n",
            "fashion-mnist_train.csv  t10k-labels-idx1-ubyte\n",
            "fashionmnist.zip\t train-images-idx3-ubyte\n"
          ]
        }
      ]
    },
    {
      "cell_type": "markdown",
      "metadata": {
        "id": "V4XqraajtNrT"
      },
      "source": [
        "Go mad using Python"
      ]
    },
    {
      "cell_type": "markdown",
      "metadata": {
        "id": "NHt631VfJiBA"
      },
      "source": [
        "## Colab tips"
      ]
    },
    {
      "cell_type": "code",
      "metadata": {
        "colab": {
          "base_uri": "https://localhost:8080/"
        },
        "id": "tdJoUe7hJhWm",
        "outputId": "31ac5ed8-ac8b-4527-ca6d-c98584945e89"
      },
      "source": [
        "# Check which GPU you got\n",
        "!nvidia-smi -L"
      ],
      "execution_count": null,
      "outputs": [
        {
          "output_type": "stream",
          "name": "stdout",
          "text": [
            "GPU 0: Tesla T4 (UUID: GPU-be2c477e-2226-7958-f86a-4d3643934b0c)\n"
          ]
        }
      ]
    },
    {
      "cell_type": "code",
      "metadata": {
        "colab": {
          "base_uri": "https://localhost:8080/"
        },
        "id": "t-sleUVUJ3sM",
        "outputId": "3ba961f1-b60b-4366-d27c-7779f13b4da5"
      },
      "source": [
        "# Check current resource allocation\n",
        "!nvidia-smi"
      ],
      "execution_count": null,
      "outputs": [
        {
          "output_type": "stream",
          "name": "stdout",
          "text": [
            "Wed Sep  7 18:07:35 2022       \n",
            "+-----------------------------------------------------------------------------+\n",
            "| NVIDIA-SMI 460.32.03    Driver Version: 460.32.03    CUDA Version: 11.2     |\n",
            "|-------------------------------+----------------------+----------------------+\n",
            "| GPU  Name        Persistence-M| Bus-Id        Disp.A | Volatile Uncorr. ECC |\n",
            "| Fan  Temp  Perf  Pwr:Usage/Cap|         Memory-Usage | GPU-Util  Compute M. |\n",
            "|                               |                      |               MIG M. |\n",
            "|===============================+======================+======================|\n",
            "|   0  Tesla T4            Off  | 00000000:00:04.0 Off |                    0 |\n",
            "| N/A   43C    P8    12W /  70W |      0MiB / 15109MiB |      0%      Default |\n",
            "|                               |                      |                  N/A |\n",
            "+-------------------------------+----------------------+----------------------+\n",
            "                                                                               \n",
            "+-----------------------------------------------------------------------------+\n",
            "| Processes:                                                                  |\n",
            "|  GPU   GI   CI        PID   Type   Process name                  GPU Memory |\n",
            "|        ID   ID                                                   Usage      |\n",
            "|=============================================================================|\n",
            "|  No running processes found                                                 |\n",
            "+-----------------------------------------------------------------------------+\n"
          ]
        }
      ]
    },
    {
      "cell_type": "code",
      "metadata": {
        "colab": {
          "base_uri": "https://localhost:8080/"
        },
        "id": "WCSZyBw0J_Rd",
        "outputId": "9b1e2d3f-e150-4a49-c42e-9d28372c727b"
      },
      "source": [
        "# CPU type\n",
        "!lscpu |grep 'Model name'"
      ],
      "execution_count": null,
      "outputs": [
        {
          "output_type": "stream",
          "name": "stdout",
          "text": [
            "Model name:          Intel(R) Xeon(R) CPU @ 2.00GHz\n"
          ]
        }
      ]
    },
    {
      "cell_type": "code",
      "metadata": {
        "colab": {
          "base_uri": "https://localhost:8080/"
        },
        "id": "RdTAcgS5KCGV",
        "outputId": "797c83c9-93b6-4803-9dc9-80384af19c3d"
      },
      "source": [
        "# CPU information\n",
        "!lscpu"
      ],
      "execution_count": null,
      "outputs": [
        {
          "output_type": "stream",
          "name": "stdout",
          "text": [
            "Architecture:        x86_64\n",
            "CPU op-mode(s):      32-bit, 64-bit\n",
            "Byte Order:          Little Endian\n",
            "CPU(s):              2\n",
            "On-line CPU(s) list: 0,1\n",
            "Thread(s) per core:  2\n",
            "Core(s) per socket:  1\n",
            "Socket(s):           1\n",
            "NUMA node(s):        1\n",
            "Vendor ID:           GenuineIntel\n",
            "CPU family:          6\n",
            "Model:               85\n",
            "Model name:          Intel(R) Xeon(R) CPU @ 2.00GHz\n",
            "Stepping:            3\n",
            "CPU MHz:             2000.188\n",
            "BogoMIPS:            4000.37\n",
            "Hypervisor vendor:   KVM\n",
            "Virtualization type: full\n",
            "L1d cache:           32K\n",
            "L1i cache:           32K\n",
            "L2 cache:            1024K\n",
            "L3 cache:            39424K\n",
            "NUMA node0 CPU(s):   0,1\n",
            "Flags:               fpu vme de pse tsc msr pae mce cx8 apic sep mtrr pge mca cmov pat pse36 clflush mmx fxsr sse sse2 ss ht syscall nx pdpe1gb rdtscp lm constant_tsc rep_good nopl xtopology nonstop_tsc cpuid tsc_known_freq pni pclmulqdq ssse3 fma cx16 pcid sse4_1 sse4_2 x2apic movbe popcnt aes xsave avx f16c rdrand hypervisor lahf_lm abm 3dnowprefetch invpcid_single ssbd ibrs ibpb stibp fsgsbase tsc_adjust bmi1 hle avx2 smep bmi2 erms invpcid rtm mpx avx512f avx512dq rdseed adx smap clflushopt clwb avx512cd avx512bw avx512vl xsaveopt xsavec xgetbv1 xsaves arat md_clear arch_capabilities\n"
          ]
        }
      ]
    },
    {
      "cell_type": "markdown",
      "metadata": {
        "id": "EYvZP94wLU5X"
      },
      "source": [
        "## Time-consuming calculations\n",
        "- Connect to Google Drive\n",
        "- Save checkpoints\n",
        "- Test on something manageble"
      ]
    }
  ]
}