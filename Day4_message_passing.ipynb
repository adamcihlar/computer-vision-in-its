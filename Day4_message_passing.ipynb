{
  "cells": [
    {
      "cell_type": "code",
      "execution_count": 1,
      "metadata": {
        "id": "lzoWUlD6Oe9p"
      },
      "outputs": [],
      "source": [
        "#Source code: https://github.com/zjost/blog_code\n",
        "import numpy as np\n",
        "from scipy.linalg import sqrtm \n",
        "from scipy.special import softmax\n",
        "import networkx as nx\n",
        "from networkx.algorithms.community.modularity_max import greedy_modularity_communities\n",
        "import matplotlib.pyplot as plt\n",
        "from matplotlib import animation\n",
        "%matplotlib inline\n",
        "from IPython.display import HTML"
      ]
    },
    {
      "cell_type": "markdown",
      "metadata": {
        "id": "RqH3O8JEOe9s"
      },
      "source": [
        "# Message Passing as Matrix Multiplication"
      ]
    },
    {
      "cell_type": "code",
      "execution_count": 2,
      "metadata": {
        "colab": {
          "base_uri": "https://localhost:8080/"
        },
        "id": "ICkMZcqrOe9t",
        "outputId": "aa6cf693-54ab-475b-f2da-8a233f6a1246"
      },
      "outputs": [
        {
          "output_type": "execute_result",
          "data": {
            "text/plain": [
              "array([[0, 1, 0, 0, 0],\n",
              "       [1, 0, 1, 0, 0],\n",
              "       [0, 1, 0, 1, 1],\n",
              "       [0, 0, 1, 0, 0],\n",
              "       [0, 0, 1, 0, 0]])"
            ]
          },
          "metadata": {},
          "execution_count": 2
        }
      ],
      "source": [
        "A = np.array(\n",
        "    [[0, 1, 0, 0, 0], [1, 0, 1, 0, 0], [0, 1, 0, 1, 1], [0, 0, 1, 0, 0], [0, 0, 1, 0, 0]]\n",
        ")\n",
        "A"
      ]
    },
    {
      "cell_type": "code",
      "execution_count": 3,
      "metadata": {
        "colab": {
          "base_uri": "https://localhost:8080/"
        },
        "id": "7IFP3fGhOe9v",
        "outputId": "3ee2acf9-e693-4a22-fa1a-10e3398134a9"
      },
      "outputs": [
        {
          "output_type": "execute_result",
          "data": {
            "text/plain": [
              "array([[1],\n",
              "       [2],\n",
              "       [3],\n",
              "       [4],\n",
              "       [5]])"
            ]
          },
          "metadata": {},
          "execution_count": 3
        }
      ],
      "source": [
        "feats = np.arange(A.shape[0]).reshape((-1,1))+1\n",
        "feats"
      ]
    },
    {
      "cell_type": "code",
      "execution_count": 4,
      "metadata": {
        "colab": {
          "base_uri": "https://localhost:8080/"
        },
        "id": "99TGxUFOOe9w",
        "outputId": "bec24988-7f7a-4161-ec57-57f155accbc6"
      },
      "outputs": [
        {
          "output_type": "execute_result",
          "data": {
            "text/plain": [
              "array([[ 2],\n",
              "       [ 4],\n",
              "       [11],\n",
              "       [ 3],\n",
              "       [ 3]])"
            ]
          },
          "metadata": {},
          "execution_count": 4
        }
      ],
      "source": [
        "H = A @ feats\n",
        "H"
      ]
    },
    {
      "cell_type": "markdown",
      "metadata": {
        "id": "sdBX6AnDOe9x"
      },
      "source": [
        "## Scale neighborhood sum by neighborhood size (i.e. average values)"
      ]
    },
    {
      "cell_type": "code",
      "execution_count": 5,
      "metadata": {
        "colab": {
          "base_uri": "https://localhost:8080/"
        },
        "id": "fNO1UeinOe9y",
        "outputId": "7c6a98f0-950b-480d-91a5-15a716c1d45d"
      },
      "outputs": [
        {
          "output_type": "execute_result",
          "data": {
            "text/plain": [
              "array([[1., 0., 0., 0., 0.],\n",
              "       [0., 2., 0., 0., 0.],\n",
              "       [0., 0., 3., 0., 0.],\n",
              "       [0., 0., 0., 1., 0.],\n",
              "       [0., 0., 0., 0., 1.]])"
            ]
          },
          "metadata": {},
          "execution_count": 5
        }
      ],
      "source": [
        "D = np.zeros(A.shape)\n",
        "np.fill_diagonal(D, A.sum(axis=0))\n",
        "D"
      ]
    },
    {
      "cell_type": "code",
      "execution_count": 6,
      "metadata": {
        "colab": {
          "base_uri": "https://localhost:8080/"
        },
        "id": "7amzHKYrOe9z",
        "outputId": "e5567b61-2816-47da-b9d0-7e6e79b1cd9d"
      },
      "outputs": [
        {
          "output_type": "execute_result",
          "data": {
            "text/plain": [
              "array([[1.        , 0.        , 0.        , 0.        , 0.        ],\n",
              "       [0.        , 0.5       , 0.        , 0.        , 0.        ],\n",
              "       [0.        , 0.        , 0.33333333, 0.        , 0.        ],\n",
              "       [0.        , 0.        , 0.        , 1.        , 0.        ],\n",
              "       [0.        , 0.        , 0.        , 0.        , 1.        ]])"
            ]
          },
          "metadata": {},
          "execution_count": 6
        }
      ],
      "source": [
        "D_inv = np.linalg.inv(D)\n",
        "D_inv"
      ]
    },
    {
      "cell_type": "code",
      "execution_count": 7,
      "metadata": {
        "colab": {
          "base_uri": "https://localhost:8080/"
        },
        "id": "iF9KmFmMOe90",
        "outputId": "aa3de236-573a-47d5-b182-6f94d2974413"
      },
      "outputs": [
        {
          "output_type": "execute_result",
          "data": {
            "text/plain": [
              "array([[0.        , 1.        , 0.        , 0.        , 0.        ],\n",
              "       [0.5       , 0.        , 0.5       , 0.        , 0.        ],\n",
              "       [0.        , 0.33333333, 0.        , 0.33333333, 0.33333333],\n",
              "       [0.        , 0.        , 1.        , 0.        , 0.        ],\n",
              "       [0.        , 0.        , 1.        , 0.        , 0.        ]])"
            ]
          },
          "metadata": {},
          "execution_count": 7
        }
      ],
      "source": [
        "D_inv @ A "
      ]
    },
    {
      "cell_type": "code",
      "execution_count": 8,
      "metadata": {
        "colab": {
          "base_uri": "https://localhost:8080/"
        },
        "id": "VJGXkfS3Oe91",
        "outputId": "4a0a52d9-79dd-46ac-fd1a-139bfba471c8"
      },
      "outputs": [
        {
          "output_type": "execute_result",
          "data": {
            "text/plain": [
              "array([[2.        ],\n",
              "       [2.        ],\n",
              "       [3.66666667],\n",
              "       [3.        ],\n",
              "       [3.        ]])"
            ]
          },
          "metadata": {},
          "execution_count": 8
        }
      ],
      "source": [
        "H_avg = D_inv @ A @ feats\n",
        "H_avg"
      ]
    },
    {
      "cell_type": "markdown",
      "metadata": {
        "id": "nCR1Yb9LOe91"
      },
      "source": [
        "## Normalized Adjacency Matrix\n",
        "Ultimately want to define and build:\n",
        "\n",
        "$$ \\hat{A} = \\tilde{D}^{-\\frac{1}{2}} \\tilde{A} \\tilde{D}^{-\\frac{1}{2}} $$\n"
      ]
    },
    {
      "cell_type": "markdown",
      "metadata": {
        "id": "eA5FNXweOe92"
      },
      "source": [
        "First, create $\\tilde{A}$:\n",
        "$$ \\tilde{A} = A + I $$"
      ]
    },
    {
      "cell_type": "code",
      "execution_count": 9,
      "metadata": {
        "id": "n_DDO6n1Oe93"
      },
      "outputs": [],
      "source": [
        "g = nx.from_numpy_array(A)\n",
        "A_mod = A + np.eye(g.number_of_nodes())"
      ]
    },
    {
      "cell_type": "markdown",
      "metadata": {
        "id": "JR7IWO-uOe94"
      },
      "source": [
        "Then create $ \\tilde{D}^{-\\frac{1}{2}} $, where $D$ is the diagonal degree matrix:\n",
        "\n",
        "$$ (D)_{ij} = \\delta_{i,j} \\sum_k A_{i,k} $$"
      ]
    },
    {
      "cell_type": "code",
      "execution_count": 10,
      "metadata": {
        "id": "vTfOLqL8Oe94"
      },
      "outputs": [],
      "source": [
        "# D for A_mod:\n",
        "D_mod = np.zeros_like(A_mod)\n",
        "np.fill_diagonal(D_mod, A_mod.sum(axis=1).flatten())\n",
        "\n",
        "# Inverse square root of D:\n",
        "D_mod_invroot = np.linalg.inv(sqrtm(D_mod))"
      ]
    },
    {
      "cell_type": "code",
      "execution_count": 11,
      "metadata": {
        "colab": {
          "base_uri": "https://localhost:8080/"
        },
        "id": "q1p7K6JpOe94",
        "outputId": "6998a421-7a58-4cf2-9d89-2964ad1d8d7a"
      },
      "outputs": [
        {
          "output_type": "execute_result",
          "data": {
            "text/plain": [
              "array([[2., 0., 0., 0., 0.],\n",
              "       [0., 3., 0., 0., 0.],\n",
              "       [0., 0., 4., 0., 0.],\n",
              "       [0., 0., 0., 2., 0.],\n",
              "       [0., 0., 0., 0., 2.]])"
            ]
          },
          "metadata": {},
          "execution_count": 11
        }
      ],
      "source": [
        "D_mod"
      ]
    },
    {
      "cell_type": "code",
      "execution_count": 12,
      "metadata": {
        "colab": {
          "base_uri": "https://localhost:8080/"
        },
        "id": "bQwjMj3wOe95",
        "outputId": "342c3fa5-de26-490b-c322-14594b7cca4c"
      },
      "outputs": [
        {
          "output_type": "execute_result",
          "data": {
            "text/plain": [
              "array([[0.70710678, 0.        , 0.        , 0.        , 0.        ],\n",
              "       [0.        , 0.57735027, 0.        , 0.        , 0.        ],\n",
              "       [0.        , 0.        , 0.5       , 0.        , 0.        ],\n",
              "       [0.        , 0.        , 0.        , 0.70710678, 0.        ],\n",
              "       [0.        , 0.        , 0.        , 0.        , 0.70710678]])"
            ]
          },
          "metadata": {},
          "execution_count": 12
        }
      ],
      "source": [
        "D_mod_invroot"
      ]
    },
    {
      "cell_type": "markdown",
      "metadata": {
        "id": "awFzoHZZOe96"
      },
      "source": [
        "I.e.: $\\frac{1}{\\sqrt{2}}$, $\\frac{1}{\\sqrt{3}}$, $\\frac{1}{\\sqrt{4}}$, ...etc"
      ]
    },
    {
      "cell_type": "code",
      "execution_count": 14,
      "metadata": {
        "id": "HpsezINGOe96"
      },
      "outputs": [],
      "source": [
        "node_labels = {i: i+1 for i in range(g.number_of_nodes())}\n",
        "pos = nx.planar_layout(g)"
      ]
    },
    {
      "cell_type": "code",
      "source": [
        "g.nodes"
      ],
      "metadata": {
        "colab": {
          "base_uri": "https://localhost:8080/"
        },
        "id": "XsDkclAgUaag",
        "outputId": "9e770572-a45d-4455-de90-aa0b7499749e"
      },
      "execution_count": 21,
      "outputs": [
        {
          "output_type": "execute_result",
          "data": {
            "text/plain": [
              "NodeView((0, 1, 2, 3, 4))"
            ]
          },
          "metadata": {},
          "execution_count": 21
        }
      ]
    },
    {
      "cell_type": "code",
      "source": [
        "pos"
      ],
      "metadata": {
        "colab": {
          "base_uri": "https://localhost:8080/"
        },
        "id": "NASWOImnUORC",
        "outputId": "40dbf835-ef90-4834-81ad-5cf5c9ee731b"
      },
      "execution_count": 17,
      "outputs": [
        {
          "output_type": "execute_result",
          "data": {
            "text/plain": [
              "{0: array([-0.875, -0.375]),\n",
              " 1: array([ 1.   , -0.375]),\n",
              " 2: array([0.375, 0.25 ]),\n",
              " 3: array([-0.5625, -0.0625]),\n",
              " 4: array([0.0625, 0.5625])}"
            ]
          },
          "metadata": {},
          "execution_count": 17
        }
      ]
    },
    {
      "cell_type": "code",
      "execution_count": 18,
      "metadata": {
        "colab": {
          "base_uri": "https://localhost:8080/",
          "height": 807
        },
        "id": "Is_LAgpSOe97",
        "outputId": "84b3c563-218e-4478-baca-0b84939fa8e6"
      },
      "outputs": [
        {
          "output_type": "display_data",
          "data": {
            "text/plain": [
              "<Figure size 1000x1000 with 1 Axes>"
            ],
            "image/png": "[encoded data removed]"
          },
          "metadata": {}
        }
      ],
      "source": [
        "fig, ax = plt.subplots(figsize=(10,10))\n",
        "nx.draw(\n",
        "    g, pos, with_labels=True, \n",
        "    labels=node_labels, \n",
        "    node_color='#83C167', \n",
        "    ax=ax, edge_color='gray', node_size=1500, font_size=30, font_family='serif'\n",
        ")\n",
        "plt.savefig('simple_graph.png', bbox_inches='tight', transparent=True)"
      ]
    },
    {
      "cell_type": "code",
      "execution_count": 22,
      "metadata": {
        "id": "JMYu9j0jOe97",
        "colab": {
          "base_uri": "https://localhost:8080/"
        },
        "outputId": "00a2d7fc-6a0d-481e-ae48-898872204d8d"
      },
      "outputs": [
        {
          "output_type": "execute_result",
          "data": {
            "text/plain": [
              "{0: array([-0.875, -0.375]),\n",
              " 1: array([ 1.   , -0.375]),\n",
              " 2: array([0.375, 0.25 ]),\n",
              " 3: array([-0.5625, -0.0625]),\n",
              " 4: array([0.0625, 0.5625])}"
            ]
          },
          "metadata": {},
          "execution_count": 22
        }
      ],
      "source": [
        "pos"
      ]
    },
    {
      "cell_type": "markdown",
      "metadata": {
        "id": "ZHjBgeqROe98"
      },
      "source": [
        "Create $\\hat{A}$:\n",
        "\n",
        "$$ \\hat{A} = \\tilde{D}^{-\\frac{1}{2}} \\tilde{A} \\tilde{D}^{-\\frac{1}{2}} $$\n",
        "\n",
        "$$ (\\hat{A})_{i,j} = \\frac{\\tilde{A}_{i,j}}{\\sqrt{\\tilde{d_i} \\tilde{d_j}}} $$"
      ]
    },
    {
      "cell_type": "code",
      "execution_count": 23,
      "metadata": {
        "id": "WAsOIxutOe98"
      },
      "outputs": [],
      "source": [
        "A_hat = D_mod_invroot @ A_mod @ D_mod_invroot"
      ]
    },
    {
      "cell_type": "code",
      "source": [
        "A_hat"
      ],
      "metadata": {
        "colab": {
          "base_uri": "https://localhost:8080/"
        },
        "id": "xFpRDvpuUurR",
        "outputId": "4844a8b7-3d8a-47bf-de9f-c012927b43b3"
      },
      "execution_count": 24,
      "outputs": [
        {
          "output_type": "execute_result",
          "data": {
            "text/plain": [
              "array([[0.5       , 0.40824829, 0.        , 0.        , 0.        ],\n",
              "       [0.40824829, 0.33333333, 0.28867513, 0.        , 0.        ],\n",
              "       [0.        , 0.28867513, 0.25      , 0.35355339, 0.35355339],\n",
              "       [0.        , 0.        , 0.35355339, 0.5       , 0.        ],\n",
              "       [0.        , 0.        , 0.35355339, 0.        , 0.5       ]])"
            ]
          },
          "metadata": {},
          "execution_count": 24
        }
      ]
    },
    {
      "cell_type": "code",
      "source": [
        "A"
      ],
      "metadata": {
        "colab": {
          "base_uri": "https://localhost:8080/"
        },
        "id": "0Z-McnhlU1MN",
        "outputId": "41fc9136-600f-4186-a80a-e22f1f15e747"
      },
      "execution_count": 25,
      "outputs": [
        {
          "output_type": "execute_result",
          "data": {
            "text/plain": [
              "array([[0, 1, 0, 0, 0],\n",
              "       [1, 0, 1, 0, 0],\n",
              "       [0, 1, 0, 1, 1],\n",
              "       [0, 0, 1, 0, 0],\n",
              "       [0, 0, 1, 0, 0]])"
            ]
          },
          "metadata": {},
          "execution_count": 25
        }
      ]
    },
    {
      "cell_type": "markdown",
      "metadata": {
        "id": "HOFsRL1hOe99"
      },
      "source": [
        "# Water drop "
      ]
    },
    {
      "cell_type": "code",
      "execution_count": 26,
      "metadata": {
        "id": "ZoEPG3uzOe99"
      },
      "outputs": [],
      "source": [
        "H = np.zeros((g.number_of_nodes(), 1))\n",
        "H[0,0] = 1 # the \"water drop\"\n",
        "iters = 10\n",
        "results = [H.flatten()]\n",
        "for i in range(iters):\n",
        "    H = A_hat @ H\n",
        "    results.append(H.flatten())"
      ]
    },
    {
      "cell_type": "code",
      "execution_count": 27,
      "metadata": {
        "colab": {
          "base_uri": "https://localhost:8080/"
        },
        "id": "V-JuhNsbOe9-",
        "outputId": "2de2bab9-6b46-44b8-dce5-7ca4070be3c5"
      },
      "outputs": [
        {
          "output_type": "stream",
          "name": "stdout",
          "text": [
            "Initial signal input: [1. 0. 0. 0. 0.]\n",
            "Final signal output after running 10 steps of message-passing:  [0.18381719 0.20791335 0.20436693 0.13626176 0.13626176]\n"
          ]
        }
      ],
      "source": [
        "print(f\"Initial signal input: {results[0]}\")\n",
        "print(f\"Final signal output after running {iters} steps of message-passing:  {results[-1]}\")"
      ]
    },
    {
      "cell_type": "code",
      "execution_count": 28,
      "metadata": {
        "colab": {
          "base_uri": "https://localhost:8080/",
          "height": 837
        },
        "id": "mBS-OI4nOe9-",
        "outputId": "c23dae9a-fc3c-4e9d-ee4e-9bf94611e149"
      },
      "outputs": [
        {
          "output_type": "display_data",
          "data": {
            "text/plain": [
              "<Figure size 1000x1000 with 1 Axes>"
            ],
            "image/png": "[encoded data removed]"
          },
          "metadata": {}
        }
      ],
      "source": [
        "fig, ax = plt.subplots(figsize=(10, 10))\n",
        "\n",
        "kwargs = {'cmap': 'hot', 'node_size': 1500, 'edge_color': 'gray', \n",
        "          'vmin': np.array(results).min(), 'vmax': np.array(results).max()*1.1}\n",
        "\n",
        "def update(idx):\n",
        "    ax.clear()\n",
        "    colors = results[idx]\n",
        "    nx.draw(g, pos, node_color=colors, ax=ax, **kwargs)\n",
        "    ax.set_title(f\"Iter={idx}\", fontsize=20)\n",
        "\n",
        "anim = animation.FuncAnimation(fig, update, frames=len(results), interval=1000, repeat=True)"
      ]
    },
    {
      "cell_type": "code",
      "execution_count": 29,
      "metadata": {
        "id": "7QMKT2zjOe9-"
      },
      "outputs": [],
      "source": [
        "anim.save(\n",
        "    'water_drop.mp4', \n",
        "    dpi=600, bitrate=-1,\n",
        "    savefig_kwargs={'transparent': True, 'facecolor': 'none'},\n",
        ")"
      ]
    },
    {
      "cell_type": "code",
      "execution_count": 30,
      "metadata": {
        "colab": {
          "base_uri": "https://localhost:8080/",
          "height": 1000
        },
        "id": "GulBjvziOe9_",
        "outputId": "9303b29d-9091-4fa3-d356-c933773b67a1"
      },
      "outputs": [
        {
          "output_type": "execute_result",
          "data": {
            "text/plain": [
              "<IPython.core.display.HTML object>"
            ],
            "text/html": [
              "<video width=\"1000\" height=\"1000\" controls autoplay loop>\n",
              "  <source type=\"video/mp4\" src=\"data:video/mp4;base64,AAAAHGZ0eXBNNFYgAAACAGlzb21pc28yYXZjMQAAAAhmcmVlAABI+21kYXQAAAKtBgX//6ncRem9\n",
              "5tlIt5Ys2CDZI+7veDI2NCAtIGNvcmUgMTU1IHIyOTE3IDBhODRkOTggLSBILjI2NC9NUEVHLTQg\n",
              "QVZDIGNvZGVjIC0gQ29weWxlZnQgMjAwMy0yMDE4IC0gaHR0cDovL3d3dy52aWRlb2xhbi5vcmcv\n",
              "eDI2NC5odG1sIC0gb3B0aW9uczogY2FiYWM9MSByZWY9MyBkZWJsb2NrPTE6MDowIGFuYWx5c2U9\n",
              "MHgzOjB4MTEzIG1lPWhleCBzdWJtZT03IHBzeT0xIHBzeV9yZD0xLjAwOjAuMDAgbWl4ZWRfcmVm\n",
              "PTEgbWVfcmFuZ2U9MTYgY2hyb21hX21lPTEgdHJlbGxpcz0xIDh4OGRjdD0xIGNxbT0wIGRlYWR6\n",
              "b25lPTIxLDExIGZhc3RfcHNraXA9MSBjaHJvbWFfcXBfb2Zmc2V0PS0yIHRocmVhZHM9MyBsb29r\n",
              "YWhlYWRfdGhyZWFkcz0xIHNsaWNlZF90aHJlYWRzPTAgbnI9MCBkZWNpbWF0ZT0xIGludGVybGFj\n",
              "ZWQ9MCBibHVyYXlfY29tcGF0PTAgY29uc3RyYWluZWRfaW50cmE9MCBiZnJhbWVzPTMgYl9weXJh\n",
              "bWlkPTIgYl9hZGFwdD0xIGJfYmlhcz0wIGRpcmVjdD0xIHdlaWdodGI9MSBvcGVuX2dvcD0wIHdl\n",
              "aWdodHA9MiBrZXlpbnQ9MjUwIGtleWludF9taW49MSBzY2VuZWN1dD00MCBpbnRyYV9yZWZyZXNo\n",
              "PTAgcmNfbG9va2FoZWFkPTQwIHJjPWNyZiBtYnRyZWU9MSBjcmY9MjMuMCBxY29tcD0wLjYwIHFw\n",
              "bWluPTAgcXBtYXg9NjkgcXBzdGVwPTQgaXBfcmF0aW89MS40MCBhcT0xOjEuMDAAgAAAHTdliIQA\n",
              "F//+99S3zLLtU2+2C6j3op4mX0N1JQGblsTtOoAAAAMAAAMAAAMAACgC8LZcalgJNa7AAAADAAuo\n",
              "AGoAC8gBrsW//4Uj2HiAKauE6evLCZk5FBvmGSx2TicrXw+nZaUCtHfubku0VJJuvjKL4hrtstU7\n",
              "iBPfi9nqyhdYzdBqUVUuTYvUGkRraUvgNZ79iTN2Z4BMNPy1wjT/E/CD4x9nnZexBXaMCvBZI5rf\n",
              "gOSdJv1DNPlhz1Qk0m7KdRFi6PkRRU6k1xeCLb6fueYzADjYwHECREZM/oW4V1WGUzTgi+ZeX/4D\n",
              "5ZUr28hZ/fyXYgEDgoY5g58otTd3B3qWy9CCadRnrBCHYXaOY0ScEB0rIh+BQ50lXs4Y6Vm7e4ap\n",
              "q0IJVocIH58LbM8kryAPQwZn6LptaXxmCdE53TOv1Aznq//33obLcC7gI9qwTb2MVEPL/Rv1hHom\n",
              "74BAD8KhNEXs+AToum+ldaNJ5zESOIvI7fJ3IcHj6EAaCHKCfu9xO9YyFTgTY2xRkts4ALIPHbPr\n",
              "tAiyfThBK2e5ZBOiWdkSp3Dv4uUv0cvF1nUSsX6WdW8vFrVuZlFvsqirdTRPCAtXQGiloZiimwVY\n",
              "aixRH2a15DuNdk0EzUUho0uhHnlSTJiRUhqbghNDHS7TtO40PdEvqEoUbTiOebNV3V0WW9/+3FWg\n",
              "/WlXrISEXVxSOcJMG74zXoXZt62b3AEurTar4xuNspxe1fgdwJb/DkWXF+Kscq2KZkSxfXB1uA6D\n",
              "WvBZ8hJrETD2kdCxW485M2zKfny9x5e7tvgxhSiZ1L5FCMLIqM4+SN1DbfTDd4XXId3+hte0pP02\n",
              "uMrV8XFhwPprrtwKoJAgrJmOWyj5FzhBO14FEMOEUDUfK+IZT/CBedqfGNWNZfg7IzUHhWQiR8S+\n",
              "JYA1Vu2cJAtQAvX0Cng1Qzdk2I11erg7eS5PV4BRpuOScIfUVpdMZVsyVpz+mKswQxyubxRGJjHa\n",
              "gB/eQ1fCtFLp3O7DBAK78TCavqNDk2S3AXljtuZ3i4OtdD3mI2N7MUYV37daaU7qfHHbGN77gzL2\n",
              "2taLoFh5NWUSCcClmUIjpJCFRZH2ZS913JfZmFaSeXBMLIKXanJYgFpF1SfKTOd6LBGSx5DzmwbS\n",
              "kaKGeL0AThm9U5b/rkSfmkLqCP6MOS4PCusULbskcAG6Kf/WJ9+8M1aDBC/9HOqM2vU4huvc4orf\n",
              "TgfAkMBJs9S5jYbuo8BMAqQqnZdga7JunWGIW3302alMeDtBgLTFo3tNekjkLcwCYr7Ge8XTvXho\n",
              "b/v4TK62BC79zqfEyjWu/+MOOoXi6Iov88IZJK9Dv+rks4mlZTsPXtjRaNuLvoh4J/u+FvN0kPI4\n",
              "kbHvuTq5+eSmRm1XcvrV/Oea2zaFzAkVyRnuUDziLAD64WyHhCwsiDilyxfHBXws2LLYsHfQOLgx\n",
              "gRJHk7YF2///nVjvmCuBvohlhwmM9nclRwSfpkqwD4dZifPcx9GufIP7W5274jYM14eevnOR2oei\n",
              "yhH7pC9gwGXmRw4QDX/G7zgsJUvrga9zb/DcqULLH3N/lVzY2IUCcNPPZbJxU20a3oADs80LIBfq\n",
              "kKwu6RToDTUf6JxJzS44KDGSongCG9Pe3yPcZ3LB17VRKVTHo3jKGMGknetdW4QVuH62GYVwKEWR\n",
              "tHg8B1nxTduJbSRsD4TwTrIeziThDQkjdeO8Tp9Mdb1kWrWB+dmg6DqwhxG/SuAe29sxHJu1QF9g\n",
              "Ptx+BTk+duVTt5ZjhIjzpJ9RSCKrwh/1TTgjgPk8+OzSWQI6qvSxopFw6XDVI5X6k1wDRFijcHrQ\n",
              "JATkO+88PYuqwppN0wBgQugiqrMN3b1bJ3xC9y7yMjSDfrqGu0cQG6VfHm7Mu4uYPuS/AhjyFwJC\n",
              "RcdmxpzvLPvJ+iIN+T3ZSOZsA6cFC5oKX4XYQnqP36Edd4D2aB3C6VFw3rGJ0XJxUilZEt0dcmTJ\n",
              "lvHGmvlNNMAqZDRNIBavLlZntNLV264FxSwAAk6ULZggJPKYhw7i66yKvfC8INfu0Yqi0ZVDiUYe\n",
              "QtXpJrfNEiaQ9uEZBUN1fkr3XaGSbkz7zTD1OfAAAC85zK1UothTR/ru3k+5ORheBofkIv3WhHpQ\n",
              "hStmDiEGxRpaoLjz5IDiwZgLKpSYlux48wnhLfEV8Tv90A68uVAAA4jtkreybP6irJ6mafPmLH31\n",
              "3AMN4Z+QTFv5arQmxKLKzuMfZQh/uXL3wdmZZUgfiAlnmInqu3c1hrT1EAAHQBY80JWNbxhtmx4Z\n",
              "VEMTE+sUpOxgGZrwXI7ywwpE+DNSPR6hxq+xGVgy0vHHZ6n4r6bS87rLB4s8puNcdON+lqx7X5/B\n",
              "SaAACCq5G2YZrI8vBD9XNAak28RD3WwJ3vMWG1qrLZ3h4fkdOZ3Mf970tyoXVqG6afusTveXEc1h\n",
              "ktneEl9ZDJODIQAB/N2s8oWPBwAIZiArFKxcBiXkLOvbdzPXxO6M3+nPK5Y3PIoZLt0uqp4fF4LS\n",
              "xus5eL6iJD8hIsb+v78ZCZIGAGh4m0AABQAc/24Isp5RUk8K6RSf4Dwo4heKg6cV+FaYjWRQwRJp\n",
              "kzbGIzvnZbSBZ/RsWdnkCWyLf9ztc8cFl8prxAAALr2y7EZvI3LP+HHNQ0b6fkLO+CTghjvxbUs2\n",
              "Y5RUWDqQ9nGcD9LCIu7nAZSla0jxZPN7cyEDzvmaeceHGjN77D+162LpHkbnaYcBPJXMPhAQD+EC\n",
              "WhD5Vy2pZhvZ4YsT+IIfzijBQseyonh6LjD7wngl89uBPlwQ7pqujqiL8hUUkgSzzR/DoSgod/U6\n",
              "FChGXxFF1xlU8mef1HSqnFJ1YMxJfHrbIo4Hns3W6MjSMeMMz4VIIVFHV3wGL4IX5bD6lcjn6jA7\n",
              "mdqiqAUohdAuM35Za3ILairlLuAABITcFV5A7avp3edk/JWagfmug2u3RXAZ6t/RN9ioWMGLfaEg\n",
              "iUGN5IrYyAP1EqF88gbMC7EZcFQpynpey+LXrZAkYG0DBZ0lI/m83EfxnmHF6KGQQbTZFRnrq6oG\n",
              "TjOLEVtx0LaZbjLyqQ5I6JDobN1l+YQAABSXOtWVKLk3dXQWRp4bWpbT4VRrC+WJmPyYWQzcvcJ9\n",
              "C1/WB4+DkTq6zg2ZAyCMlOA4v/EgT16s7pNAK0z0Uh83OsSMh+OCGGTLiVwGa7U+POUUYPOsVUah\n",
              "6JQesb0ENTwErNZoB7JQ6mnG6+y/p0EjwkQ0xBetrcU+j7v82hqsAAAfYzFpIz2S9MxOBS11MTzh\n",
              "kmXoD74GZE1CX9WBHOufaOOZxRYVmW8BmTjmajlTCgchntmafX/PxV0BBPii3Ct5icNw4Is9qyZd\n",
              "vaWUwEe/kx3AOo2gL/rJgBAX6ZQ5ZDns1TPLjDO6BweM5+ZG5i3RO1TML/LtojQ7GHckNFBOLiTV\n",
              "j6fZIj9d52yCpXLwkKOyChHso2pC7lr20lQtbT672gt4pUxfomDMxnLEdVZfjmfY7H+D7AU+Inkq\n",
              "ZkzPKK+8dTvnaT0wJUy4QhFSu2ZjA76zJNOj3x3Hh5ZXsY52C1Zgfhzvo+ueOoWkVmLzVix+l1FQ\n",
              "PA/IpfiuAuDy8iNqdESl1/XjI2FM8eV0DrwqBX9vFxoqTvQFdAkj86EuZ14/ui0lY+lZ1F2j40nv\n",
              "rwGnlu1+LNh3utxBKkk9h+1LvBqbrWReKxFD60/SYBbTxkSseBNC3+XyhHRwcEyg4AAZgfNLAgIb\n",
              "LUI+8hHbDK7UsikhGGWpJUXt+aRILAW9c9mZEN0hY5lPxYFJaeue29epvRejYkmgy5xLaHLxhFRa\n",
              "7WV1FFyvm9WbIS6ToF9Gec3FGIE7IxPJdaN7gQuvrQRCjBqY2kFRy1s1AGtCgHWKQoHM44oxbCnX\n",
              "PfptCBaV9YKTmwnZjOIG97R5WI1G88iUagGOiLu+lBaBgNipoW4OT7l1h+5aYEv/46RHtlCjLKyN\n",
              "DsXj9OolSbTklwyYxSxs/hnrKtWMDiFn5xzzELerIe8XXUqlmgAAJRG6/XNzECQNzXJSxLCt6JJA\n",
              "SlJrwWFzVVuoebYzuehTSwuGglvTJbdynRx1zemta5hVlzAGuTHXuHBlov2wZLo0T741K20K889a\n",
              "d23bgezQn24acxJiQrf4EO2fTCOJb1DZjeDnCpMGrxvWBtGqD8vggJMZzEiSjJJpE29kZvsycQF0\n",
              "jh7bJvSUk4XUV5KY7rr8EGQLchrnrIghrylu5UGOz/XOZkWBj7yd7baWWeFYR+QGu3wqYojL2Ag+\n",
              "TgJGwKHE9ouO1lcLBveuWN+9wRaXGIBHQADWhij3rfftpLSiWEMQTrIx81O085NplQPvwzgrhkLK\n",
              "NEyVj2GvLzKm2+e19rUFpw1NtTQx5PV95ZKq4zx9p4mcRNy5qZDO9RTaU0wRqQpILgmQb9SwyeK+\n",
              "ElJM3Kl9yKEvPUicbUn+yFzMbzii3JdCPCMh80Hp724EshnCfBJIyytbkpI8VdnIP1Z3TNSHOel+\n",
              "2DdQHR22xOdiH/gyP0w940svtwE2iIeB5xdeHjAQpvDV3f1swly6ZMu8tdk6nxkoaJRFWPldUeiT\n",
              "AQxb2YgABduvlHyG9T3olz/KSKz4BdfrOed9nXC1xL6q28PbtSqWApDdcL4TW8dNelOHRjO7X5TE\n",
              "ACt+ftk3cz5mfSQewM2RBYnMuAm1Wwm+xy8RrVzumYEw6H1Bu1ota6/Bf0ylt07gG5F81cY3Zxtw\n",
              "lHLjIY34UrlVx/AiBR4vNJPyAYyKPsV+RKI137A2K48ezbNulpUL7dmg9e4EBPFI5nXIG3HrhsUY\n",
              "dFFzSVNRcsAlqiD5rMiD8MgMmZ+/aNyyMhmdV540UiQ93/upUop6Fin5QY5kUiys8jf0uadQAAbY\n",
              "FuoJnqiDRNo+7QvLimMS7ES21NypNVwxoZXl0D4NnvCgh8HFj9rWO06O6nlUCHy5l1Qd3cRweSTp\n",
              "WC6Qzgj5bovo3bTA8q7Zv3+ZgbYxo/Wsj3RTNKWIY15JPcwe9a8KR7B59Ht30L2D8SlNps510zJ/\n",
              "MaZxt053WzDfH63qzlnhuOnuaTHp8fsrssLuPp9oBc2UVCC7Freg6nP4IAQWbU1R+RZOPBLVnj8W\n",
              "yy47BvLnT6pWiuQXPM1Vmq0dYe8glfLaBzDtxflmv942Ouh5jVQ5eruoeQOsxQAD6vOoqkOBsapG\n",
              "5lE4uuRqY07PKKPPkbmJanoepcqjnawChh67iZrN2hu0NkYHZjdAOrMesnYQtqNZaRShVemB43Oe\n",
              "glo5ZAGRwo913WKnsUM9tbCdIUQsEBXUPGavh2ljPB2En9GT+e0dx/VqtnR2gZP45EQLZ9+Owx2D\n",
              "1Lv3Hj3uhTSj/dH1/F9V/4gumkKNba0QbDIzZgMm0g3P2THNp1172GMpcN0/u/Ep5IokEtbuylsh\n",
              "CqWXSZPp1L4GC4zn5HRFOB824kVms3/RmaXpobNfU49jH/+Pr8Fk4hIgAz4Lq0vg3IcJlKgJsuSe\n",
              "vtBJUz87I+ISKtv++TPaNe5c9IoKbWEMY/ngB9DyJZrN/aRjxzi9gO5XESAWRTYxQdYbdkSO6gWt\n",
              "bbAHWtaBTeUcLGJsXmDlUL2j5HxoBX/hD8TM6v3o3BRYKAMUWZhAdSks2SoPGh0FlPZ9Dd5XPjr+\n",
              "SrBpygXhdnIOUSf/K3XEQyvFj+VRlhbap2kEPjoQ9g1v45ELmiIeZGZTNpBhJCp3CyoZCGKt0+T5\n",
              "Wj7O3qUEBrIemHrLUmjrsIIoGbzoglt5qrJTu6rZFhjmHBYALOf5s6NX7L6h/ySrhyO9xJv7U+1d\n",
              "eFonXDGwmZIki3wuT3BWEreLqV5ZKZ1kDcbo8A0JHOm2Cz9qqCr0JDIEz/GEf3LApDxGp7pKOREh\n",
              "4/uKONsmkENODdvDGY9Ab8RJDhL0R3cw9dgFdW+RrUYBuBvvUllE9vKgusf839zhsW+EXdchdbkz\n",
              "w10MmXx44wZLDtRl4tR8oTJdpdghHFnRnqoFK15saob9Kp/etRejH/O12Ck0LHT+vRxSrcYm2oC8\n",
              "dJQppR/oLBSaDlQhlEBkrc1oVpD4zTWsgCEAULylIa6V7N7Cxw+DZ+VM0vxP60OFUO801CESb7V3\n",
              "9QbAl8OfSYOnUYFDQBHi3OyZyryWPCdRmZrk3hy7NHazJucZK+bX0qY/d7B+6Or+2ZgMmp9MuiyD\n",
              "OzGp30DTi5X+ZC3P+fhquE4KYxj1wJkODsqcrghvUibafniFg6HSN5XtHy4WXTFYvjbiOOU1J6cb\n",
              "aRr5wiNuKIAKvaBnEUjN851Nc+qXlyZsynCgbwQUhVJ43lv8a9Ai2oi96XHxkCWzu4qqVSR1/cot\n",
              "qSJ5+fuOYcugCOmUXhCa/FuoX8kI7igvFVHfAMHnRD1QXis84no8MBBgPqhY4V8cYZMrJCkoGoqE\n",
              "v9ICd9AmaqFWUpvw1aAarG7HD/Jj+UgFnC8ybbX1QiulnCrgzc+MOndi3i7oC+YMUPWwmxCskmoS\n",
              "q0j5yPWxkiP8bkgK71SDnnqQILkrFVV4+CWbC6nUvtzwmXCQ4GX5cXI8xRjPC5ra6DPQM/LBXWf0\n",
              "+IohHq1Pkdly3jtPbjgYO9E4hX5o1iAryTuvoPYBmg7Az8n3O3CzQsVwaDVf7ISate8CQ705cJkT\n",
              "junuvu4MxW/iQZXlHpvmUZ9sjcF2421hmRtG3g2qau7eaiBUsVIhH6zbX44qs1NhLLsaZv/Y7QOy\n",
              "Zfp4ikO7PWiZ0TRC4fcZ19e9FQ8cDt5YABqg2UPcnx1VqcUm6pBKMoDebrVOqGClgFdcNbhujzMy\n",
              "hMqLVxl1llDYIVRkvb2mfuZHegnJIAk9HHZCjF/UqULftZ1K32hOKuCgTAEkAkjal/WsNP1wPQOK\n",
              "mfln/k7ZRhsSA+f6eaiXRaiVCKJPSu+6O2ZErE6YXViLZczx0TpZcNlnLW+L/xHyI4aIrDesbGHW\n",
              "UF/GT/ee8r9nIStL9s4XkE3dBnSSPYUSzMZypestoJ2uuMduFHOVDbwrT+5Z62coi2E2pleubp7M\n",
              "o3eQ5I1Ao9AmCOAwUU2IULLmoyWfEiIiubdfd0Gj8tu9hXFb0A69IA9dklNwI+UXL1l/dAW4ucI/\n",
              "4KhzP4nhBa63xQeoo9wxJ19jHaZOvlL9JY9Hb5DI47WgAh7epAR9Ohu6v6pgAX3qyhnwGPuTj6wF\n",
              "3F+E70JROtOCBwksmjQ3AorXjTcdK2qTltnFmqo9YT3cte30JqW82lczdzXR3A/l/j4WBfc8UVKk\n",
              "prLnz8I+tptfyPED7zVq+uKb/nZinrSKYP6gGHRcufudzQ0jQ45GvYvVeBXJw5bB1yLuOtFTNPIg\n",
              "JQN3uMO5mrGjWep4AoeDn/OQpGB0E0awA+H3om40UjNKE5G/trzZLuojoKAkALpuLltCtCqziURh\n",
              "qhH0ie7c44R+qPapP3bVsGvKJCKirmMdgjwSFWGVvqZvP0DyJ/CxCzMaBbV3m/YPTGjz64Yh/mC2\n",
              "/dS89mEL2aWLWtoQYvna1iOYdGs/IeaWY7lub9NknpFSrErAVxZHWRlnAEXwEvxVoNikttssDeiU\n",
              "Mgg39Zj4dLo4/NZMlZ0sJ7+WRLmuY4bWUQY044cdwAyy7d6L8O9tw6LnTLIwSXQcikT3CW+X9Cp3\n",
              "UAT7a1BINrival37ov/ftMrOhWdltSSRavwNI+XCGntfY81j/DeXdXgaWC2Y32xb5BZi3J6qtKnL\n",
              "ewPD17N3Kb2LLg2vdMKwAgo+rt23kRtM143PnwvsMStMz5rkiSXy2JrPOgsaqgjnSiIKAHE2iRAD\n",
              "d4QaTQsPnIBZ1vJXCgdQYxJnaDKaB/31Kto+LJds9dj0ieoNG6SQhQtDjNSpj9He2W/vUrfAZKhV\n",
              "QAAchZbuRJDlCan9siJxo3vfCDxrsY9OhXxqNSzWn+tvzKC5HCpe7lQxcxxkwus9k8+0gAjOeueJ\n",
              "KV9X9NFO2WFMAAJbs1nBRUNJJGPxFhe+NOJGDzR9h+zGmtRSihhRxNpu4t1biihiueEcwprGqivk\n",
              "9K7w8xxMp4GLFgAAYwFfHVmmIir186mI5bG7TDXdfqRzanvDHm4wA7+tZsXY1O+haep4cc/aRqAs\n",
              "A4Z0dAKrA4Z4YNoofsn7bX5+gAByf6o+9iIAKaGdsPSdSfojQ/EBV65u2RHSBxMW92Ja6oCYi2IX\n",
              "h6QhFI0kTso0vVHGNMhkKWovzQAAyRoIsrLf69BG27K+WPEx9Nq1rOamvl+S9SWU0d8WYzWTvjOu\n",
              "uqVd3gsYHto5drZ9MLh8tyG0L/z82RA7nLcwmwAABSJpC3/qDLEb+yHyvEXNvMkCXiQhFRQgM9nz\n",
              "EQ1DmasNUDb4TG4Q1OWCHGimALR8eAOkkZW69BgmfsUAAQY1PmhoaEp+3cY2kxGRuDI7/yyRdrxZ\n",
              "lx3sKhRrOawI9xoaw8clKL02aklbRLENUaE7KQWjcAncnxCalgDQhj0yR3AABse5C3/qDjEPh5mr\n",
              "Bls2pQBfeMs8myOK+tMMk8ETWAxanV0nSidEOK2rpWgWRF8TkRZ2UXzZ79/2kRDvMD9LEQysI8yr\n",
              "gUFTT/88evvlM4dBWx+oZetUUTPqq588zv0qTPYb1F2IrevXJf/MNzmyQRs9mcTFediF17/PAqKC\n",
              "iM1WOp5aHjOmcQDkX+Xy2LoAne/fSbHX7sPe1M3W7F7EUpTgM8zM0GI2LpgAxfjFt91aayEOZV0m\n",
              "PLE8X3owIpgYrpC9EsPk+ohRvvJbjX3Cwanc2dvo4Im3LPt4E4SQZ/N1h7nN09UJNzc1pFqdveJQ\n",
              "dX6muoNpOb3Mw4odsS4ujbPNuRMZYRnCtSYCg+RMHTW/56VJdP8IG2CC0zaNJo8Ze2FYEd8Yd2ny\n",
              "28r50Z3FRfQT9lF9u+L3YSRcmaAc+/ZI93Kn6Rz4ASHKxfAfaTj/yau4tvscFMY0MFepmZ1U3hzk\n",
              "WYqY91E4433j+2WeY7HXpripg2aFcvFWxo+u9Ds3Do3UpecgTe9QaNuNU5lgA8RwhtxdLAxOhj8i\n",
              "A52ldNA/a/WD1MT40qw8yw0EPd4iNGw6OA6nPMm/QY0YtTe9nc1dafTeVFlKCv/OKkh0hhhqdL/a\n",
              "1pKNESta0VuvE/mKnL/aGAlLMFWwslu6e3HwZTNMU8U2g3qVVew6rPiAbyKOZRfAgOYu8EGX7nrd\n",
              "frNJao8hTlF6L2M7HA1ZH5t0kPDK77mhXbPfv/faWPM0wwcqG6X30NKTldZM3cTz8DtPTwaep7Xd\n",
              "eVSErTe/zmNpLKLLhT+Tw0TuYPQX1EYsXxk/YTVVAEdhMddaf9wIAWsfFnYErTw3yr5fVvZlO7sa\n",
              "1OY31Mf83M6KH0kMO/5gJIDSh3QAMTBNiAzujC9bbc7yob1Q8mr6osvN9R3XFu0Q1vhuJifQsATU\n",
              "XBmsd4pofQ5R4EAC2LGjYNPfA7m+mpi3vGKkwqLj4wo6laj2pvoPx3L1raIoOon7hUAkhSanX/F4\n",
              "NX94RapSVAPHJ+50XNbNCAI8LwTNSKNQ4KAlmZLSD4tG5Fc/5pqt7GcrE1zaT0g0nEjZF5SXbfgD\n",
              "5wRmOX8eB/9g8PxfBKQPYt3MSwAC7BFTjuy0sneX9wK3R/6ITJdVfQo6J9XW34NMKB0j9FRTi21M\n",
              "4IJOGUWvPaSVWOKwa4ezF27fo6qO82yunMQYrHOtDMXq01R+JRbTff6yvcYbnBDCv9fKRmXgjsS/\n",
              "WkYw9L7rjAQGossx5Msl6W25UcbmPCSHaosalU/9wagOE+pPvGmb5N1qEMuQz146JDhd9jzmJXXQ\n",
              "mFVnZma/71Er1o2jdsmn9JEIrD4jjUw3F7hHhVAkp+o8QRpJ+IjcWF+wIp0MRaa0jU6SJDu25lq0\n",
              "q2dADdcjDN2BHo0S62kfQKd74LtesAALvAudgm1DdG0qUWRT9bmTYZmdFRpqkASs/raSS4suHlkv\n",
              "GsqstDGJWlHj6zqszus0ZvNs6Y1sUKSrmd9s/ppgAgmTWgAAAwAAAwAAAwAAAwAAAwAAAwAAAwAA\n",
              "AwAAAwAAGvEAAA4pQZokYRgPoZUgBAUF//7aplgAAJg7FKAAhWxBVaVrLkLZMXFhseW/ppQ+ywD/\n",
              "moyItN9NT8AzZBYPOQl5d58/RRWrPiFAvcA9Tyue7q3b8bfSH5RFGTHOKHGw2MzcgPX8CFe17Jlx\n",
              "2YdI9e60mrGHc5luhlpTnJ/z/d1Wb14LUNPckNb9xwtthJxpoovFGYHS2oAvt51WpZUIkV5Ybkqc\n",
              "xNQXQ2tXW5o7hkpS6CGb+wJLiqKD0hNYmxrzEFeEJTzCJQeRAxpVCR89BXO96o5onERw9qtEg8ZC\n",
              "6s1nIfWDAxr55u7/M/vx3tY+Jor0srA1IycS/kZ4HiVyqDFPDBiOt38MPJksxDx6dCy6/14U9yVu\n",
              "UT1GLyOHXLTqf4ulwwgrqtDPB8fkrH42mVSHzeuNXGzGlDxMooBn+y7m2MC05PZjPMWzI/dwtl3a\n",
              "H5uV4/zIlisPsX3F3Q/b0n0Mn0Ry3RCabY+gMdcv73nrEjkuj9wjCUa1tguRSU8HWtY68lHZ2Rp7\n",
              "GuzpCTh9CRi+fcA+v0Z5BnueqSVHQKqnRaBFC08yNihO+6M/WJR1Xfna6I8R8dmpPb8L945Lu0Z7\n",
              "9BTVIQ+f7IJwabjFUfO1L3sOc2FwI3vD1fqy7lo45Mr1dRcrWjuzJh/1T60d63puF9rJYaUphvwb\n",
              "7vAxYx77Nccme3Hin0sfsTGRwm3kp2IxB9IxC5PmRkl26oCdQ+9YwCJeG5+BOq3vQqc2QJIoKbmN\n",
              "vJ0kxHfv/TG2BSxv3f9+564kiPgEEQN3Iez3eszPl0YR/KNIJ7CTGI/hwDc/PNaG1+3uJGJ+ALep\n",
              "FOEVT3mGHp+lKeO2/b+As8fWVNTUA+EOO0/rmnErQCUFx7cercKtf4ajVveXh/CLl1y0Zb+DMMOL\n",
              "OvrnNe/akgSuypklOHW6of15QOwBAZAeJBnjE90sCRjQH/emS6fh4VIktZYBCsFyu85RYss+FIpn\n",
              "RpINU24yeC2K2IMJ4H1u8fBFn1MAmKybeEH/OhlrcypID00iXc9I1sV5hehlgem4saqjB+gpEgw0\n",
              "WMfnkeAADtqF7wIjw82LHO5qdL8u+TgPtiOuraOm+z12wcDg+w9sdDInbi1CN8+7pTtbk7wZwAGc\n",
              "3wpC5TmrhVHR6Q3hJ8RkMU6TOz2Lx9M/ZYZA79Pt5aKfI4DohWDiuJbEr5684g4eLM/zvig+TaPg\n",
              "budi5BzSSstmivI6c/XkNICw/rVeU8TSgwA16/zeiYAACR6S77MBJO1UJrd6T5mAACRxbiwaEsyf\n",
              "KTDPVa81D52Z2dzcQ9GzaiRyNzm3h27QfEynboWgsYap9BTzoNv6Z2otlGDKizYk60AP1VrMPJQ0\n",
              "ppJZr4gLECFTtmxq+UI6eBPyhY+hOMX8qvlyw+dA8tZ3w5pM89GpaynbLpISMdFnljMfk2O/dhnk\n",
              "3crFGYpiY5FGwzJowwyRjszfnADxwbMPEApjIBi53qp9FaNcnyo1MNtEKkpR/dMnX9BOpLzw1tT2\n",
              "8u/gV+ZI1DcAMdh2oTIaK7Zv0QnBiKQPR71zoaqylWRjfC+HyCsXRa2cAb/bC6YjT5+pr+nQkSB3\n",
              "AylBc2IAAnvFH0AL8vueArTEmPy07Hfw+fTotAr1zxceYQICietTmYFG9+fB7SXPlMav0ozhYcQe\n",
              "q6x5AQJ9hPUKs2uo6eyY0HDENsbDq5rj2nZY8UYGijln1fI7VIexZBOOgqE94nWG4mAfVxaYB4Pb\n",
              "AjESb7xZrv3Pom4IXtKxTSu15d2Fl3icGAbXYwtDXQatscEHE8htJXvgqpkhExaAU2sm55/i2Sch\n",
              "JsAoyP0ebf91I9i9+0oR4ujxxre5tU6XnP4BVeDi2mZplUyOgSdHszOF/ha6jRgTwwjvX7WMum6H\n",
              "jOEtfy9T4PLewbuGL83GA9hRSjvYGXoDoX67fik11hByoI9i1DJxFrLVpnUqjGydhuL2jJ08lp0Q\n",
              "D3u9w8/B7cbbtuySOTc5atDcMsmnp/DI9rc2fMAIDjRwGLdNQOSq0eoRtGg2PoOxUk5SnacUoeTJ\n",
              "wBt4pu+9wxVatsx9cHQKpV1G4u0YDxvLS+FCdhsMM6Ie/wWghGdLTmBBDEs+84iGtJXIFAFo0e4h\n",
              "CCnXyJcNdKsLMHRNHb8CkU8iXJ9yMa2YAAmYzybMHihWo8I3krRKxSPjOsM7RDk76Tpl+KRIWKQf\n",
              "UKLHZPZwGj9e7vIKDI46NCXM0bS6XOhZer8QHQGqUMdKZsLHZDjHpz825WuXjIGAcsTicUw6uc8d\n",
              "ddwcOnzA53B9e59bMXuUS9ox9d+LamtTh3166PBWVxUNq6eqte4BxUZxot3lhP0jMNKVw/jJwJXo\n",
              "WoLQcJJKT3cX8iUvDXqKTL0nmESDAPlPssRCSTQHAWBj3eCCq6g7yVLb8JAdmIy4SpPxyXnsdcnI\n",
              "8RceqaXjj2ad2Km7v8hM/OnvChY4bX4yJcvipm2azaEdSDIRHRyE9Wy5MRycXPI7Ocef8QX5bDoM\n",
              "8JBs5dKKMIT6j6Y64EsYVb9wMaAUzzfJ6Mtc7ORo+cPx6cUyJnQ1ldnWGC21K5HuN5iGQl67nU0z\n",
              "6ZUnrElqKXUdtDQoTS/eGVdfXcwdDc2kOdxpwu+wK1rjrIfI4leZPyRfIGJvBPFsWLiPxNvYuCDk\n",
              "uneJPZk0b4jIuO2n5AFASIkurxwOflVtwiBvw5vve4nr8W7nxb3bVunqHN2uVQ1l+JmyJfmZjZWQ\n",
              "IT/uMhkphTU0mlKkAJGyKggE2WHqXjdV/yF1zP+9q0szuCuw0jCWlYs3Vybkv79Tmp9nwKhj6nkh\n",
              "3tXOUF6k4t5XDUq2rgA00HNHDIHuttvcfyOZBM83GOlbe9N0j8u9Pa4hSV26QS9EcPqgHwK7Fvpm\n",
              "Uc2Ekwj66HkvJBjO6WM7gSRpJE6RzybERCJG/v8HMEQ8aScBOGDklZY9QjyKq0mjfRlqCT3BpDsL\n",
              "WJEkpWn4JK5FgQOBBaxWowpxqVIf6jmt+S6KC78KLVM1XQPP/qOdUjOL3JhfFtcWzXxEVH3SnBbf\n",
              "OPx5totP8g3vuOOXzb4GArLYKvB97+8AbKxqqClFiwQkggw7bpUqjWqnSnP9VDFuegADBtWaRUgW\n",
              "Il7VGT9SfeeSFI++sQvOmXmqHQmvmU4AWGM5zuq3JGfWWm/jrDEscY8brOErw+pv2qMmMTNhXIoi\n",
              "wcLZpK0Cu1Xhur8yWaVVSAAARLHs/2yZYamo3VXZr//s1AHpr/+Nwx/WWfQNHdivA2DBaXjn9yoA\n",
              "YxNwrn7E2FhNv5y7Vqy6Y7vrkWodIn7NkNf88U+SexRcEnweeB6NixRuziZK0/bxzrBELxxXromm\n",
              "DeawLJtXtwOSXmz8lGHWhntSzepUkYEdmQpmK5/JGg7+ncZnYDob+YGngN6kf6DAcPxJR2rl7iJD\n",
              "ANov8SgnAnQgq/A4qXPsAX7BEuNU+3rPj19khqqSaqFjF2kdGxy++DrtXtSvW0pLq/XSbbWS7x7/\n",
              "/x1c1PxDB/HkEifWd7B23P/7JyhSStQjD1JsQu+MC+exTPB+KaE0aYUp/NCmPVG1O0N1T9zHdHem\n",
              "HKf3MuEZBJW1GaWDlTP4N4XPI8kS2u3NsE2bfWS32HnKZu0cDv0eOoQpCroAKm6Kp0yGNVcBTsOW\n",
              "Wd+1SkOYIVE7yfrRZZS0Xvl06c5mH7iW2HzGBiYwj38K1gfOq1trr4JT3OX+xE6p3LH8UN9NVQtP\n",
              "ubUGu+ayenJzlNtgEHbFRlAKX3EN5jc3mifkIEv8FomaBv+pC9Uyi+4+AisjWyDZ1Vl+VvbbBARI\n",
              "+RPxukb6Lw90/lBkUDmT4xEhlHrzKwIuFew4vAgyivJi/srB2bOzVNNzTfug5lJ1zzbWaeder4en\n",
              "mInDE+6q2Lf7FDMwFOT+AB+HxaHLleFcNbnUh4uHyBI0nliiLUkzebrl+RsRXFE0oJYkWkdUuVtb\n",
              "lEiz/ls5dJqnAhtP4NQQ7doeL3NCoOA7n/Qcmaz7zTcx4e2vOkLci1q5SI03n0eCCAPGcK85e98n\n",
              "CBGn8U323+szhRIU/iD7gz1Vbyi0gMbxXr7TxURWvs4fR1Zrdnfj3fjn29JxeyzG+uPWw6UKLdGV\n",
              "VdOhDafilYZxGA1Omao9Y61zDGILPbPyyqFjTISK2prS5zDH7FwRKEBE1wKx/zpbfXZ8TXFZQ8xP\n",
              "ttUywW2sYPgRUEOWu4rcghCfhxPBW881Ly+qdbm6ZJ16oP2TG1rupUaskE8k4NdMiN4/ANP98WY+\n",
              "An2Id5RZsJOXG8HcNEnq7dluvlBINk7WeqLUqbTGCtkbhUXxXzhuIoMWgwZMfcE8x19m+Xk748+2\n",
              "kSVoF2gLBVAtuvGCr800mdYuX73wIAnzhZ0/PWUSb7iYpPDQeHv45siA3irtIGeIu5G5XGcwcZ0q\n",
              "LLpylUvwNRSm9Eo7v9H8QlvmkOjHY4SbrmVf+si/Nd8br0wPw6qjjDY88JlL9ko9ClunF16lsHlx\n",
              "SIIxfDpxWaZRflVf37o4oQ5lTA1ss6FYuNFU9OreR449hcYzF5OZ/uRGDwGsFLIkhiGvB+xMZRVu\n",
              "354i5jLYb2O26imFlDeloMagQ3kcgkEwk3cqwPz54pfbgFIhRj562glOTUI0LgEbJg7GXWylLKh5\n",
              "z0XsezJPvjAFrsfBEnJ30Mo9UJU3JH/khGT2os7+QQrUHE1WbxVAv5xQmIk3344sjEkmJESIqnt+\n",
              "1Vko/uml5QJkb2OXORNP2hdeb7iWHXA5f13CP0k7/SLDZ5fCD7dusxWgrNrCYE6iaco5uy7k6gSx\n",
              "Dr8w7kIoZuuXvqO9Dq+q/eAfh0ic2Mc+nYF7tpBLUrT1bQtod9s3RHdM0AAChgAABJ5BnkJ4gt8A\n",
              "AAMAQRaZ3jksddqHlAAG7n9VKLQPcmnCl17Up0KS6juaOwX8UOk7jnuMNWZwKPTjZOhrTOtIyeME\n",
              "L9IbLAon59g1KSRPEp8EtLpYeCQKE7fbY8P1tNrxPzwSsA6HlBJTNX3CLk9g72bT1ZtrhuhHb6hd\n",
              "/KC3EX6CFtl+3J21LPDBuzUn2aFqrb3RGRAdulCNxBn0+s0A/QMt9sVwBL409n5kLCCHafTgAuCh\n",
              "wp5elyhZ2NROyi/9FhV7LSltqtQKHmIm1HZLyFfx3eqzKbC2uIf6IwfJDrZEyhcqQAoT8+ZQIpvH\n",
              "fEwzbjiLvtF0/n5nij0b6CSkjrDhlS3Ki4xTFU6fwwQXAv+OARmqQur41KbBpywIaSbRiFfuHoN9\n",
              "UOGAkd06AEF44MF6lvbVGx6AeCXeQ+y5X3+QIaIpzG3pPLIivGFG6vkMuC7iQPSdcHeOzS47Ms45\n",
              "eUyts1iCLYse996672Gw9Wb0QxR8ZtKCi4/nnPo5wRS87aZIy8H0N4bvcPYWJAVHhYGFUE3Hrh45\n",
              "QsB7G+mx4xW5nKHJz55HM8VoUceI3fmzK5NOWyJ5TyuCqMo2cGDv0zujm/eR4/O0M9AhVrmNbICs\n",
              "SnCJcV7iLTNM4d/d8jKDU+RhryjBNX0/u3E+dkOXP4mH0pEthvl9BzO/2+EcqGl085W+lKHuUY8N\n",
              "ka5GQr0rNcqiNPDP9/xi/8uK0+cebzbWwKAQvSa9kzfmZ09FLsXpUgj39VcHFa5FTHT6VKdKhUIw\n",
              "o4z0ra9J7O8coArnip5JSOfLVo6TsgYIAR+1ZC38kLNlLCY5TrJA7MgPmOsFIIfPewAWaO5T3qqt\n",
              "8Xnip8TdWJUnTKZ/7NB52yt9f6k/iwTMmR2yKakmwNPnWPiizFmWlvBuo1F16NIu12x5sjXxODIe\n",
              "6MaivZuXG2uxo0MzBcOHmPC0r3xH74ghWnNdddq/XTzVdZJHH/D0H1DKou3YQLPuabU3KXqd/Bgk\n",
              "aol9ZpHM2sRFvW0cvjqLkAh74Ej2xcCLtAbEuYXC4JubyLBWX59IzBaV+zmSinmhqU9sA7lC69hX\n",
              "6+6PdFPqyWEMUvDh8RYtOsJss7FAVKgD9VSodDAAAAMAAJmCT3kiBKHj+K3jWj5PRR0l9MRNGkwN\n",
              "Hgrgxk62Pxc/RMEE3krqpjkZutISEuRRmavCfw+O7MF8CKUHdN0XOy0g/8JwHX+3EOd90VVFQqoR\n",
              "9fuhXPhU9cK8L3xsEMVdusjl3I9kaf3Rnn6ejMsbL0XZPi3Up/vJbGXq+ceAh40vKmb2YzZTIbSo\n",
              "ZGPVR61EXCl1Un+mOyUsqINc+1SJdHBNP4wRBERBwxt5+mX2lwuX982qVQJHef2BSjvRybPmYQhR\n",
              "CmlwY2ZaCMgBk34nqCRaVbyFzzolAP3ooWT8XhFfoOheKAZVN+PShmxdXVbgvo35V/nKWfzDvdgc\n",
              "dkrDw/CAL8TU0PLbWfN5gUpcSLzpaPZWGBhfpbqaoUOnjlD3sCXIEJ9KCjvMU4zJJpoYjTuZJv9t\n",
              "cAPaAX0WfufcSPq82DhJP7vSIIMffSp8zW35wwMuA1QAAWkAAAQdAZ5hdEFfAAADAFy727KNoASr\n",
              "LKl0YZFyuzJ3+LZyPh0AlJT10GW5Dp2tmaTKiExijL4ZSzRPDa19Fn3eHIBGDCbQAwuTu/YfnFjc\n",
              "Jb+Gtgdt6p/3hptNL9ebVMpJvSKf7zzZhdWPDKtryM498uxrn/UeIMAPqJ5xkvEqbH/W1DAAA3Gv\n",
              "JI2N8o0VLAysFib+l3wzEKDQawQErRgggCIgL4PSViqVwXidiE2eoAAAkIjYj+yHWxLQKXodQeR8\n",
              "L2uhdlfizxwAuZJLpLzoVybxFSQrSi2wawGe9MK0CZ8cZo3C5RILqSZ5TTyzHBiOwo5C/ugBpOhV\n",
              "WJct8A1Nf/E/eE4QCmLA5OwyX64rXglWos9Cv9e7IXENsYnCeOUPpfVuUxeShe8VTJMAdDSIaR42\n",
              "IS8A2N5zv6Rz7bemNBZUA1yWQ8DaneJiJyZiWKGkxuF5igqc5QcqTJcNKuHEMafP8m8fiQbzyKZS\n",
              "BI61shfotCtYsATjwXCo1WVOC08QhPeGTK130UDzf5Xysc0QOUghHpxJynQGq3SmPoGbCYwbsmUN\n",
              "s18TCaKUoY/U47bNNWTqrtTscrZmD46mRFgn4ClWaXOprHXxalfBClJZmj6c7hQCrEzcbDhhfihn\n",
              "K7nwcZfD6tLlozLUh08qDJFHGEALkRzV6dzZvHNGxfM3eUyapl4a9tITumZALk8CZe7nuI9aaK4q\n",
              "GsI57ZSwaA/L1cblT/twyNkBDkym9gPPCs5XxBtt3R6lo9C1aaONMRIAXahvvbMQs2grWK7gVv1W\n",
              "sZcxa2ffWsELN/bSveIqdbmDbUMmEf1P3KqSmu/076gQrrhCQ+PB/gJciuyWNE+b1rFcS7TavgF6\n",
              "jwiABOvuoNWUuJOYQ6WM+oK1003RsoXpAAUtS3ezo0RDcks7dO9vgvlIBbBfSFaC2k0mwpkVEwyA\n",
              "KF9btN2K47uGaAvl5VtbNkhjIOevaBhjSm55o9U5KPVtCXI0Iwz96I29tNiQT4BaRRQkw5EgPxwB\n",
              "kVFXsgwO9xkECjno2U1wjKtEWqLb4yJwqoRuB9/qp5wUOQpOoSjmJw1BMfmlv5JDT6YXjYioG7ku\n",
              "Kdsek1p0UH20h/raYju78iw+zc3wqB161IYUcFeiftwk7QGnhRzJV84X71FS/REPOEee+3Ag11Wv\n",
              "MwSaeRrRZyOKQGLdoc/umJaZ1E+II0b2LepQ+LPiMwQQUqmPf8lSm2xq+lKuJAA0rnlZKNiccgfE\n",
              "rPvE9z3rDI8rgGHWyvgjU6OisVQi9KF3s8+oGu0GF6uBAx1WDSQcuoAe6t8+sK0Zn0HbQw9M32vH\n",
              "iv7SFk0HdGZ/TY3lFI/Q1QStf7aUaEmnV/w1GyvWqaenM++qHkPIK3iObJ+xIRhpsheDMbI55xYC\n",
              "5rkKutIAAB/gAAABuQGeY2pBXwAAAwBmraMWaJfg8ANwJQ5vCc+INDy3M3CRRLT58HVslRFfI/gS\n",
              "N8420Fwu89tpdYjX/c4g2k/PiP7CENH69Up8VxdHr7G0C5Sip+ABz4+xkN46xrnsj37UNv5efYx6\n",
              "cFS22THTuAY/Fph5Tsg05LlGuljP7t8mXG92MHLGwgNnKVGAHSkfRbwELcDJyEZHTsYf9C9/L8UY\n",
              "ggudl5f7FoxWTABIBXasPmnksGG+pnG5/CHdKOiNV0c5i8s4E4bTu47rOEh/ftlFIzFGiLkgvUGz\n",
              "J7uQNgLoatyGkb6x0r6a/l22v7U9N/EL/563b05vRy7Sgj/gwXMhpF4KIQTCJMgsITJwWR+3FXGz\n",
              "w8lFQZVsatEpzLolz29OI2DNwRBM0ROfgYrqj5499riWXZm0kVJqegOrmyoAX2hHiINut68hXuRv\n",
              "ckPVUV0oe9up9jswpcdDQxgbvVU5L+q2MNpnlaMg+/Br7irE65sKc0fcFJKqJwOGKZ+RpmdmFiQ+\n",
              "/+SErYOKCIRa3y/yC4LaP5xR+Hf9V6Es39oa225FGAnVizF86MpI8fA7A2IFv6B2rHeIAABnwQAA\n",
              "B1JBmmhJqEFomUwIL//+2qZYAACM/y2GGQRVgBw5+eU+s377vXxiVXMLzGDZzRHvqfSKareSXfA9\n",
              "uILwlM1Z8CVJu6jfxsj4YU6QO08+cL3YcbMcbNKcCSWbgG7Y/USSbfGgdBXQjsdbB7SD4cKd8sRi\n",
              "JnRCvRYHcUA+o5rR7M1KZE0zLMIgVnegI04XSiPFwZm/Q+/OzH4cmyxinNcnZgxcA+AmW3zjLPn0\n",
              "KdjTCoGaktp/ucxqF77I+knJJ/htoWBy1nl5NtTmgxyXmVsKg7oqxDCVmjm4Jy8PkbNABUolqbTJ\n",
              "Q8EHFiGuPKStFz9pR30d2nStfjpS/n+EaJM8D9/c4KcRiqSmnM33lGN90pr/1CCVyoTLk2cvI2J4\n",
              "olsbfXzRJ7DOF8Ovkbq8OJzDlc0MpMqv+fEObWcnVOhDiXAY+h7lcX647d8E4OJ90AgaGOHQiSLc\n",
              "lVT8p/iF6I4UzvJ7SQ4RPMyrULhB02uwSlwkPJU90GOwGH/mN3CmyCzREQ9I5Qt4LUYTx/6wBtoW\n",
              "7EQDUXhE+bXLfDMgIcFKyLy/x0TaKNn5dnmJyZVqdjv0mVztUlMJp58sZHd0Yr3qPXXHscKsVR49\n",
              "Swc9syGo1YFhv1b88jKgON7+zy7K/V35oniSfL1CkHttiO1rS7Po7ihR4QwPIqqbj1EhJmR6wvKR\n",
              "kiJm/rSjj8CJlpphSNUxVgVk+fY6lRYUpVypV1XhfNlLFOExZwfQ9D5tDv98kLlOipdn+KPC09fI\n",
              "+4cKJtaEc+QjWKIKYMbAKNIyJQGWcTOgEgAF4wN2ri0LvzzpExsL4aMlJTug+h0LWkG17t1KqUAF\n",
              "P98qo9RFrFbZkj31h9DdjenGuOB7iw7+iaB0rZbDpqrfy20JwDsOFq/fub8Urxuhm74PTTeNXHGv\n",
              "GLwObBEiRKyC8ufMt8dazS1eaRbK+RT/aVjDVxnm7E5zacETzyFt4JECy526nz6PqVBhUszMoRIR\n",
              "Vdff64oxeYYzZVz4EcSRtWRDR1CZ8YKGntDLzm9tltIEAwB8KCBm6iMU/iuMyZTlRs4vPn4h41aI\n",
              "Q1bC3sT71Y5oqyUDw9TxREHaj7Chq1/nvShwlvtAADg3gGylQEKv7OoPOqx0t750JnG6KcTGZSGk\n",
              "1yclkYWGCSmsaofU/+qMJLWUSf2pUjgTG5M2WrcItXHNMOtY6tmOyKVDOospKdMeRs0mKJbwqfO+\n",
              "69KsQGBIGfwvCx/kbwgf/35UgsHZow/8yjR7FigXzDiP5T1QzLoRML9RTai+UEhZgNhefpH3ZK2b\n",
              "vQVVtrcbJAZISFrEFiSH7QUGNg6KFYecclhSGUb6o82/m3IKguIIARDHW1uLZmIeZfpa/J8JpqvD\n",
              "FWXuMD6VUyD6Z3eq7+9wJUkmsHlQS9ngqHa/LFlXdxTC1npGhdLBV3wGxiou+nob1hw+1nkqaQVB\n",
              "DuFEDG5KDNsq8yYNqmaW6nOTZEzwRA6pDpp6KAAA2vr/zehYwOkIETBxPjqaBqwnn+GCVXmqM04W\n",
              "LhMsqxSaHd/sdLAF0p5PxMkeDubP+8QZ7pylqW+A+QK+QIMlAl7vmlTCcKEtF1twbmFtzqgxK8nt\n",
              "0hx05Mg9kPNiF7zH5DirWVErfHj0UelFFPfuCv1x9MwpIZZcHVx8oITxB5N+qfego3lT+YgZnU5A\n",
              "M3YURuLsRg9xL2HDN9CBYIOjakOsAALDGMX/M/eVE4w4K0MPbhYfP6zRcJnlP/3RoewS5Do7fMX9\n",
              "kfyLIN2RAOwiZGvZuFU24MLbmzmCXonB9aFBCX79wyVg/vEYP1l0l75vsm7JhggOqnaa0QlwZsZh\n",
              "UMjNszGjvPScyIeMSIM7+mAAxllRyPaITXpJ/xllEhgv59WRDd35o4ty4aNXn0wV0Y+IkEF81g3W\n",
              "26rYhvOSBIGfRcxTVFnN2iiaHmTicZsDggPQEODg+8mDhdC9Uk03wC7K0MKyfPplt508EaNcvfqQ\n",
              "t0RIyHVB/415roavx0Ns2wNVjFS8t75rFvyeTGC5yF23WGPO2TaMNB4Rvyl5+Jtrc+AfKXHzQL+h\n",
              "uPVZp0f/fEbAO8L4R+yImwLpNBhGYZ5EKoqVeRf9NVJnqVr2H3Q1i2UD2szxdFExsyBxiRjVKL8H\n",
              "vThY050P2kwPCuFaL0x6yVADywISOKV5Wqs6csPG6E7PNwPzdEW55aodRIEZbMvY0FljSxdUdClM\n",
              "dzXaEECA1zB1J0q4afUWd6cTNLDRmaWitLa0zqlKCCPIbqOm/ZGpHuDxtb5yeyY0B6f1UVjRVltd\n",
              "ariUOLRzRQ3wryQmnIR890lnuCsRzndXOod3uQs5wboPk8HHZNrmGW5HjCVb5or3kxRWJss9gZL8\n",
              "nIhO1UJq6WtFKH2g06o2YpPpdZIHCDOqIJ5txj/eX8zdTr9EmjQ2Fth4ezPwUyYqfS5VpaNh7bzh\n",
              "AOKNr54UmnIbdNVBLMgnfT8tMTn4w3JRn0mw8xUUUlXqSShgT59BNwUMcdUK7OeDAAAS8QAAAcZB\n",
              "noZFESwW/wAAAwBBFhJT9EJJNcgokkBACJZ8kR7DOrr3yKvdzEhavjqVGG3dQ0hSXEec2pBfhvR9\n",
              "1+WZDBYCq9EPninwmEM946LOFIkK4UqnhgvTuKFZtUz99JmZLIBIVyr0Oi/AdrZHsmrnMbCsPXHw\n",
              "c+g3T8PJynzEyKDqQJGZEVmQGXSRt2BE/v+3CHbDj2iWwoAtExAmbqs0rtXIeep+kt+ZFUuf6lQA\n",
              "8On7iDP6GnkhXk8tyvd3JUaPPLBxptjx1HnCPxkYiCLT7n7vnyrQEMvtFkd+iMHyQ2ngv2mjRnnj\n",
              "x38z6TGYd5gY3K2dOFCj1ChRsK9vnaBy1QDApSgGgyYn4pt/rnXuoBJxdODuUYEP9d1tDHBHyDS7\n",
              "U7XVMaci7D+GWhUm48UAPklptBkgIBH8v7qg0nFoQOL78iwXklNzAHIMLcnT9WXkaV9WOBMOZAht\n",
              "EqFWpDGEsBRwQ8OvKZCP3pCridxAyXZEIzESObDQJGuxJgdlegK1oe9HLCI8SrMhef7XwikQsB6u\n",
              "DVB45v7lHMtIGwjpqiyhJwI7yV99PpQEfx4siNcD56OT7yCcadc1Gj19DXxo3XkYL2AAANSBAAAB\n",
              "sgGepXRBXwAAAwBmqlxM8fahQAJzX1PKVyYBtjd9L2vDpnzejOnOwSurQw6kkwbFNceq6eg8OTqL\n",
              "GkRKrnGr/ne7exMB2L5qaemO8HSGVLRxwcVYcMdaitdsULc1iGxoWMuKYaqlwhTQTLOZqV7luyzH\n",
              "LU5ffoviR8aikPROkb6ohS5DFmRgQgbQTxc+lzcdRj7kRLv7+SeOFXeFisq5ml0P8l1UlhH4EGDf\n",
              "oIbf6mbMmujArmTZupC3QuGf7DMkwQwRmruyc8D0x26mq+acVboIlfRTcZ0QlIb+Mz121BB7lJxY\n",
              "AKonjXkL8GhM4gN6sh2/6a/l23BHWovyDj7FAGQ/psxTeq3e+0gjJfOdwMDRYMXkK+7wIATwIJ41\n",
              "V3NLhd+hTkWaA+W3VZfWtlh9MBruQrmPaTCYCXx4AJ82RLnN5aDJdJkV9d8hjASkQSK6SD+eNRt/\n",
              "e3H+xxQ6Fsw+oVSwOa+33Dzv6g/jydGpUJuJoGveQxs5klTbEz4iMZygoRv5ex88xWGJPAZuI2oi\n",
              "ZLNPFprInh6B6NDZ7PpjX0nBY6sd+MgxrnCu3ntsvsCAAAf5AAABdAGep2pBXwAAAwBmraMRI9KQ\n",
              "ALlki8tQeeRdpFB+2yNfo9PrRpP2WYHTHnqlUWVPTqUg8m16WduWtdzdPAcPpk5hPyGsHIM4IC8B\n",
              "+R+jqkElS3jiAkaSUOVhNofnlGngxXuklw33gEFwhIyrlIiCHEf9OlaLxjeq8cT48XM980nC1TtA\n",
              "wDVYaDCwd+EzbFxAeUDu65RLL0fIS3YdJhbCWLW7XsPS03Ayce+as0BLMLSD/sqWs+6631ZzfoVe\n",
              "sq9mKttHtd6L5nqFWrBLxglVoO1a8JhqbL8SKf09SCNFJHiQ7kSlsFLVkfofr0U5RB4gHDFW1e/X\n",
              "mQa0x0h/i0/mUPpXqv1rhT89Hx2nC0Rhg8a2OGq4x3v3WDXDhztUN+b9oAwy88lTu9P6Ubw6dMWN\n",
              "elLML8W3ZbKEoUvBzXCFwTH3JXHa/RiylwT9AslwU/j6ARst90XhAL2Wj70QHeaJ2dkfzVmr9zl4\n",
              "VaTnwf3Qx2K8gAALKAAAAodBmqpJqEFsmUwUTBX//talUAAAnDif4JT5O78/Dp1D/6RbUmqgBCLD\n",
              "9HrDD4AMhqpuUYXKdVM32M6bjVjCCNU+zCH5buImMueZdH0GdCWNbD9vGeZdZ/pRvgyPdXALVFQl\n",
              "wwcFFXsqWl9ZhCxlvi9UV8/DnADmwTuUH0yiNAPULkVwh22R4zKmjiSg3EofejVCevzWy38NGWX+\n",
              "HaVhunkVxm8EN9TYO0U2Qm6h/RiVNuJn9zRAOSs4nggaeFg4lyLSpKH/Cz7xoJl9iI0cSedyo3Ev\n",
              "BaOgY8yxRWI5HHRFocxGzuyPUeRGzwBtO45uL1a25Vu4Q/CQJqNELyOIYG0uZl/2reTfbrA+VTpg\n",
              "JGuSHRM93ibePKvaiAste1Jz9CTG2e6+R+yVeLFbplh+7TDDWd1adR8D3uAfRExLxw31bgWVcT2x\n",
              "btgJuqFnn95Kr9cDFILs4MyilvMr5aeM/RBz78kwc313Mj9OkDUmvBZArNkG9i9z8wkZErKeeawo\n",
              "drgbIZlCeAAcm9zgiAm3+U10JAYPvrfVUlP2D/jopZMBohQs0zuCxkPKOyR27gT8ACO82tF1CvpS\n",
              "r2yXyMnUDn/8UvuMKEmO98AXica8YDceOnYPWlCbQlzbRXRqrglDu6vPI+R6kLT0CQdkAAlTh7+6\n",
              "3bHTgQbgeX7eZ24niejV6uBcz05krFdYOoonLq72ua7Ubry4mIKClisrHde4XPyjlUIaYSpdLQZY\n",
              "zKC/o+dFacFs1m6STMfFc76rRBFERnLvEWjA7s+y+HdxIB6hJyF9gSZGKTGXEsSEiWYU+JCGmS1V\n",
              "ShYqd2tCtfSm3U/W2DE5k86yfXXt4O6GDHKNWoQIwov4AADpgAAAAX0BnslqQV8AAAMAaS2iozkJ\n",
              "DQpjNACWmkZlqy8Zy3nASHRfQFg3tiOopHfMDz3BU6wQ0dCbBhmRek1gkEiKKHyeLDmlJhBYe7sy\n",
              "pVaxOY3z47e1FP4nm/yLUOs8DHtqdDsXiM3YC1CBlYGLZ7Fw4yL7kAP8tVkFYnsemuApV4AA5ql6\n",
              "FkIp/g9MFx6Iax13dbrkfUyPSdvqeB+mT19/xA8sgY4qp/8TY5vDPSNbpKSn+L89dR/77z992SfZ\n",
              "Hb9m85gP+8zQpzGF8IjCWwMncP621HtYHZrm2s//eBhxw9PsbnyDYpmom+F8g0cuvvl1MOOgva/k\n",
              "p/y8TJesReKFaW6UbiLtrSIKmcg09gmnAe2LC3zr6NOx8qkMX+T0DxKsVJn49Tdm4WXfqYhhhKgg\n",
              "tzeUO8/ngb/nY6teRsBkVSrqNlS9HqtyMcfq32sj1b10RrMYRV3QO3T0BbWc6LOxGHuM8v9Sb+ux\n",
              "fmiodZUZ+eolD9RTdQ2VdoE/aAAAK+EAAAO0bW9vdgAAAGxtdmhkAAAAAAAAAAAAAAAAAAAD6AAA\n",
              "KvgAAQAAAQAAAAAAAAAAAAAAAAEAAAAAAAAAAAAAAAAAAAABAAAAAAAAAAAAAAAAAABAAAAAAAAA\n",
              "AAAAAAAAAAAAAAAAAAAAAAAAAAAAAAAAAgAAAt50cmFrAAAAXHRraGQAAAADAAAAAAAAAAAAAAAB\n",
              "AAAAAAAAKvgAAAAAAAAAAAAAAAAAAAAAAAEAAAAAAAAAAAAAAAAAAAABAAAAAAAAAAAAAAAAAABA\n",
              "AAAAA+gAAAPoAAAAAAAkZWR0cwAAABxlbHN0AAAAAAAAAAEAACr4AACAAAABAAAAAAJWbWRpYQAA\n",
              "ACBtZGhkAAAAAAAAAAAAAAAAAABAAAACwABVxAAAAAAALWhkbHIAAAAAAAAAAHZpZGUAAAAAAAAA\n",
              "AAAAAABWaWRlb0hhbmRsZXIAAAACAW1pbmYAAAAUdm1oZAAAAAEAAAAAAAAAAAAAACRkaW5mAAAA\n",
              "HGRyZWYAAAAAAAAAAQAAAAx1cmwgAAAAAQAAAcFzdGJsAAAAtXN0c2QAAAAAAAAAAQAAAKVhdmMx\n",
              "AAAAAAAAAAEAAAAAAAAAAAAAAAAAAAAAA+gD6ABIAAAASAAAAAAAAAABAAAAAAAAAAAAAAAAAAAA\n",
              "AAAAAAAAAAAAAAAAAAAAAAAAGP//AAAAM2F2Y0MBZAAg/+EAGmdkACCs2UD8H/llhAAAAwAEAAAD\n",
              "AAg8YMZYAQAGaOvjyyLAAAAAHHV1aWRraEDyXyRPxbo5pRvPAyPzAAAAAAAAABhzdHRzAAAAAAAA\n",
              "AAEAAAALAABAAAAAABRzdHNzAAAAAAAAAAEAAAABAAAAaGN0dHMAAAAAAAAACwAAAAEAAIAAAAAA\n",
              "AQABQAAAAAABAACAAAAAAAEAAAAAAAAAAQAAQAAAAAABAAFAAAAAAAEAAIAAAAAAAQAAAAAAAAAB\n",
              "AABAAAAAAAEAAMAAAAAAAQAAQAAAAAAcc3RzYwAAAAAAAAABAAAAAQAAAAsAAAABAAAAQHN0c3oA\n",
              "AAAAAAAAAAAAAAsAAB/sAAAOLQAABKIAAAQhAAABvQAAB1YAAAHKAAABtgAAAXgAAAKLAAABgQAA\n",
              "ABRzdGNvAAAAAAAAAAEAAAAsAAAAYnVkdGEAAABabWV0YQAAAAAAAAAhaGRscgAAAAAAAAAAbWRp\n",
              "cmFwcGwAAAAAAAAAAAAAAAAtaWxzdAAAACWpdG9vAAAAHWRhdGEAAAABAAAAAExhdmY1OC4yOS4x\n",
              "MDA=\n",
              "\">\n",
              "  Your browser does not support the video tag.\n",
              "</video>"
            ]
          },
          "metadata": {},
          "execution_count": 30
        }
      ],
      "source": [
        "HTML(anim.to_html5_video())"
      ]
    },
    {
      "cell_type": "code",
      "execution_count": null,
      "metadata": {
        "id": "_DvO8-LFOe9_"
      },
      "outputs": [],
      "source": []
    }
  ],
  "metadata": {
    "kernelspec": {
      "display_name": "py3modeling",
      "language": "python",
      "name": "py3modeling"
    },
    "language_info": {
      "codemirror_mode": {
        "name": "ipython",
        "version": 3
      },
      "file_extension": ".py",
      "mimetype": "text/x-python",
      "name": "python",
      "nbconvert_exporter": "python",
      "pygments_lexer": "ipython3",
      "version": "3.7.5"
    },
    "colab": {
      "provenance": []
    }
  },
  "nbformat": 4,
  "nbformat_minor": 0
}